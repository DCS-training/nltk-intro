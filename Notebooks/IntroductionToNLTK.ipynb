{
 "cells": [
  {
   "cell_type": "markdown",
   "metadata": {},
   "source": [
    "# Introduction to the Natural Language Toolkit (NLTK)\n",
    "\n",
    "## Text Analysis with NLTK\n",
    "\n",
    "### [Centre for Data, Culture & Society](http://cdcs.ed.ac.uk)\n",
    "\n",
    "Course Instructor: Lucy Havens\n",
    "\n",
    "Course Dates: March-April 2022\n",
    "\n",
    "****"
   ]
  },
  {
   "cell_type": "markdown",
   "metadata": {},
   "source": [
    "### Python Refresher\n",
    "\n",
    "Can you name some of Python's **data types**?\n",
    "\n",
    "There are two data types that are particularly important to understand when doing text analysis: **string** and **list**.  \n",
    "\n",
    "**Strings** are sequences of characters (as in letters, numbers, spaces, or punctuation marks) that are contained within single quotes (`'I am a string'`) or double quotes (`\"I'm a string too!\"`).\n",
    "\n",
    "**Lists** are collections of data of any type (str, int, float, dict, list, tuple, set) that are contained within square brackets (`[ ]`).  Lists can have zero or more elements, and a single list can contain elements of different data types (for example: `['hi', 123, \"bonjour !\", [], {\"A\":1, \"B\":2}, (1.5, 2.8)]`).  The elements inside lists are *ordered*, which allows us to reference them by their *index* (position - numeric, starts from 0)."
   ]
  },
  {
   "cell_type": "code",
   "execution_count": 1,
   "metadata": {},
   "outputs": [
    {
     "name": "stdout",
     "output_type": "stream",
     "text": [
      "Hello world\n"
     ]
    }
   ],
   "source": [
    "print(\"Hello world\")   # print() is a FUNCTION, \"Hello world\" is a STRING (str)"
   ]
  },
  {
   "cell_type": "code",
   "execution_count": 4,
   "metadata": {},
   "outputs": [],
   "source": [
    "greeting = \"Hello world\"  # we've assigned the string to a VARIABLE"
   ]
  },
  {
   "cell_type": "code",
   "execution_count": 5,
   "metadata": {},
   "outputs": [
    {
     "name": "stdout",
     "output_type": "stream",
     "text": [
      "Hello world\n"
     ]
    },
    {
     "data": {
      "text/plain": [
       "'Hello world'"
      ]
     },
     "execution_count": 5,
     "metadata": {},
     "output_type": "execute_result"
    }
   ],
   "source": [
    "# This is a comment.  Comments are for you and me, the computer knows to ignore them.\n",
    "# In this comment I'll explain that to return values, we can choose to use print() or \n",
    "# not, and the output will be slightly different, as you can see below.\n",
    "# If you want to show multiple values below a code cell like this one, you'll need all\n",
    "# of the values you want returned inside a print() function (except the last one, which\n",
    "# is optional), otherwise only the value in the last line of your cell will be shown\n",
    "print(greeting)\n",
    "greeting"
   ]
  },
  {
   "cell_type": "code",
   "execution_count": 6,
   "metadata": {},
   "outputs": [
    {
     "name": "stdout",
     "output_type": "stream",
     "text": [
      "<class 'list'>\n"
     ]
    }
   ],
   "source": [
    "greeting_list = [\"hello\", \"bonjour\", \"salaam\", \"hola\"]  # 1-dimensional list of strings\n",
    "print(type(greeting_list))                              # type() is another function"
   ]
  },
  {
   "cell_type": "markdown",
   "metadata": {},
   "source": [
    "We can use a **for** loop or a **while** loop to iterate through items in a collection, such as our `greeting_list`."
   ]
  },
  {
   "cell_type": "code",
   "execution_count": 7,
   "metadata": {},
   "outputs": [
    {
     "name": "stdout",
     "output_type": "stream",
     "text": [
      "Greeting at index 0: hello\n",
      "Greeting at index 1: bonjour\n",
      "Greeting at index 2: salaam\n",
      "Greeting at index 3: hola\n"
     ]
    }
   ],
   "source": [
    "i = 0\n",
    "for greeting in greeting_list:\n",
    "    print(\"Greeting at index \"+str(i)+\": \"+greeting)  # an example of CONCATENTATION \n",
    "    i += 1                                            # a shortcut for writing i = i + 1"
   ]
  },
  {
   "cell_type": "code",
   "execution_count": 9,
   "metadata": {},
   "outputs": [
    {
     "name": "stdout",
     "output_type": "stream",
     "text": [
      "hola\n",
      "salaam\n",
      "bonjour\n",
      "hello\n"
     ]
    }
   ],
   "source": [
    "i = -1\n",
    "while i > -5:\n",
    "    print(greeting_list[i])  # we can reference indeces backwards using negative numbers\n",
    "    i = i - 1                # we can't write i -= 1"
   ]
  },
  {
   "cell_type": "markdown",
   "metadata": {},
   "source": [
    "We can access subsets of a list using **slicing** with square brackets and colons, where the number before the colon is included in the slice but the number after the colon is not.  If a number is omitted before the colon, Python knows to go all the way to the starting element of the list.  If a number is omitted after the colon, Python knows to go all the way to the ending element of the list."
   ]
  },
  {
   "cell_type": "code",
   "execution_count": 15,
   "metadata": {},
   "outputs": [
    {
     "name": "stdout",
     "output_type": "stream",
     "text": [
      "['hello']\n",
      "['hello']\n",
      "['salaam', 'hola']\n",
      "['hello', 'bonjour', 'salaam', 'hola']\n",
      "['hello']\n",
      "['bonjour', 'salaam', 'hola']\n"
     ]
    }
   ],
   "source": [
    "print(greeting_list[0:1])\n",
    "print(greeting_list[:1])\n",
    "print(greeting_list[2:])\n",
    "print(greeting_list[:])\n",
    "print(greeting_list[:-3])\n",
    "print(greeting_list[-3:])"
   ]
  },
  {
   "cell_type": "markdown",
   "metadata": {},
   "source": [
    "***\n",
    "\n",
    "The demos below reference:\n",
    "\n",
    "Steven Bird, Ewan Klein, Edward Loper (2019) *Natural Language Processing with Python - Analyzing Text with the Natural Language Toolkit.*  3rd Edition.  https://www.nltk.org/book/"
   ]
  },
  {
   "cell_type": "markdown",
   "metadata": {},
   "source": [
    "### Demo 1\n",
    "Import the nltk library and download the texts it comes pre-loaded with:"
   ]
  },
  {
   "cell_type": "code",
   "execution_count": 1,
   "metadata": {
    "scrolled": false
   },
   "outputs": [
    {
     "name": "stdout",
     "output_type": "stream",
     "text": [
      "NLTK Downloader\n",
      "---------------------------------------------------------------------------\n",
      "    d) Download   l) List    u) Update   c) Config   h) Help   q) Quit\n",
      "---------------------------------------------------------------------------\n",
      "Downloader> d\n",
      "\n",
      "Download which package (l=list; x=cancel)?\n",
      "  Identifier> book\n"
     ]
    },
    {
     "name": "stderr",
     "output_type": "stream",
     "text": [
      "    Downloading collection 'book'\n",
      "       | \n",
      "       | Downloading package abc to /home/jovyan/nltk_data...\n",
      "       |   Package abc is already up-to-date!\n",
      "       | Downloading package brown to /home/jovyan/nltk_data...\n",
      "       |   Package brown is already up-to-date!\n",
      "       | Downloading package chat80 to /home/jovyan/nltk_data...\n",
      "       |   Package chat80 is already up-to-date!\n",
      "       | Downloading package cmudict to /home/jovyan/nltk_data...\n",
      "       |   Package cmudict is already up-to-date!\n",
      "       | Downloading package conll2000 to /home/jovyan/nltk_data...\n",
      "       |   Package conll2000 is already up-to-date!\n",
      "       | Downloading package conll2002 to /home/jovyan/nltk_data...\n",
      "       |   Package conll2002 is already up-to-date!\n",
      "       | Downloading package dependency_treebank to\n",
      "       |     /home/jovyan/nltk_data...\n",
      "       |   Package dependency_treebank is already up-to-date!\n",
      "       | Downloading package genesis to /home/jovyan/nltk_data...\n",
      "       |   Package genesis is already up-to-date!\n",
      "       | Downloading package gutenberg to /home/jovyan/nltk_data...\n",
      "       |   Package gutenberg is already up-to-date!\n",
      "       | Downloading package ieer to /home/jovyan/nltk_data...\n",
      "       |   Package ieer is already up-to-date!\n",
      "       | Downloading package inaugural to /home/jovyan/nltk_data...\n",
      "       |   Package inaugural is already up-to-date!\n",
      "       | Downloading package movie_reviews to\n",
      "       |     /home/jovyan/nltk_data...\n",
      "       |   Package movie_reviews is already up-to-date!\n",
      "       | Downloading package nps_chat to /home/jovyan/nltk_data...\n",
      "       |   Package nps_chat is already up-to-date!\n",
      "       | Downloading package names to /home/jovyan/nltk_data...\n",
      "       |   Package names is already up-to-date!\n",
      "       | Downloading package ppattach to /home/jovyan/nltk_data...\n",
      "       |   Package ppattach is already up-to-date!\n",
      "       | Downloading package reuters to /home/jovyan/nltk_data...\n",
      "       |   Package reuters is already up-to-date!\n",
      "       | Downloading package senseval to /home/jovyan/nltk_data...\n",
      "       |   Package senseval is already up-to-date!\n",
      "       | Downloading package state_union to /home/jovyan/nltk_data...\n",
      "       |   Package state_union is already up-to-date!\n",
      "       | Downloading package stopwords to /home/jovyan/nltk_data...\n",
      "       |   Package stopwords is already up-to-date!\n",
      "       | Downloading package swadesh to /home/jovyan/nltk_data...\n",
      "       |   Package swadesh is already up-to-date!\n",
      "       | Downloading package timit to /home/jovyan/nltk_data...\n",
      "       |   Package timit is already up-to-date!\n",
      "       | Downloading package treebank to /home/jovyan/nltk_data...\n",
      "       |   Package treebank is already up-to-date!\n",
      "       | Downloading package toolbox to /home/jovyan/nltk_data...\n",
      "       |   Package toolbox is already up-to-date!\n",
      "       | Downloading package udhr to /home/jovyan/nltk_data...\n",
      "       |   Package udhr is already up-to-date!\n",
      "       | Downloading package udhr2 to /home/jovyan/nltk_data...\n",
      "       |   Package udhr2 is already up-to-date!\n",
      "       | Downloading package unicode_samples to\n",
      "       |     /home/jovyan/nltk_data...\n",
      "       |   Package unicode_samples is already up-to-date!\n",
      "       | Downloading package webtext to /home/jovyan/nltk_data...\n",
      "       |   Package webtext is already up-to-date!\n",
      "       | Downloading package wordnet to /home/jovyan/nltk_data...\n",
      "       |   Package wordnet is already up-to-date!\n",
      "       | Downloading package wordnet_ic to /home/jovyan/nltk_data...\n",
      "       |   Package wordnet_ic is already up-to-date!\n",
      "       | Downloading package words to /home/jovyan/nltk_data...\n",
      "       |   Package words is already up-to-date!\n",
      "       | Downloading package maxent_treebank_pos_tagger to\n",
      "       |     /home/jovyan/nltk_data...\n",
      "       |   Package maxent_treebank_pos_tagger is already up-to-date!\n",
      "       | Downloading package maxent_ne_chunker to\n",
      "       |     /home/jovyan/nltk_data...\n",
      "       |   Package maxent_ne_chunker is already up-to-date!\n",
      "       | Downloading package universal_tagset to\n",
      "       |     /home/jovyan/nltk_data...\n",
      "       |   Package universal_tagset is already up-to-date!\n",
      "       | Downloading package punkt to /home/jovyan/nltk_data...\n",
      "       |   Package punkt is already up-to-date!\n",
      "       | Downloading package book_grammars to\n",
      "       |     /home/jovyan/nltk_data...\n",
      "       |   Package book_grammars is already up-to-date!\n",
      "       | Downloading package city_database to\n",
      "       |     /home/jovyan/nltk_data...\n",
      "       |   Package city_database is already up-to-date!\n",
      "       | Downloading package tagsets to /home/jovyan/nltk_data...\n",
      "       |   Package tagsets is already up-to-date!\n",
      "       | Downloading package panlex_swadesh to\n",
      "       |     /home/jovyan/nltk_data...\n",
      "       |   Package panlex_swadesh is already up-to-date!\n",
      "       | Downloading package averaged_perceptron_tagger to\n",
      "       |     /home/jovyan/nltk_data...\n",
      "       |   Package averaged_perceptron_tagger is already up-to-date!\n",
      "       | \n",
      "     Done downloading collection book\n"
     ]
    },
    {
     "name": "stdout",
     "output_type": "stream",
     "text": [
      "\n",
      "---------------------------------------------------------------------------\n",
      "    d) Download   l) List    u) Update   c) Config   h) Help   q) Quit\n",
      "---------------------------------------------------------------------------\n",
      "Downloader> q\n"
     ]
    },
    {
     "data": {
      "text/plain": [
       "True"
      ]
     },
     "execution_count": 1,
     "metadata": {},
     "output_type": "execute_result"
    }
   ],
   "source": [
    "import nltk\n",
    "nltk.download()"
   ]
  },
  {
   "cell_type": "code",
   "execution_count": 2,
   "metadata": {},
   "outputs": [
    {
     "name": "stdout",
     "output_type": "stream",
     "text": [
      "*** Introductory Examples for the NLTK Book ***\n",
      "Loading text1, ..., text9 and sent1, ..., sent9\n",
      "Type the name of the text or sentence to view it.\n",
      "Type: 'texts()' or 'sents()' to list the materials.\n",
      "text1: Moby Dick by Herman Melville 1851\n",
      "text2: Sense and Sensibility by Jane Austen 1811\n",
      "text3: The Book of Genesis\n",
      "text4: Inaugural Address Corpus\n",
      "text5: Chat Corpus\n",
      "text6: Monty Python and the Holy Grail\n",
      "text7: Wall Street Journal\n",
      "text8: Personals Corpus\n",
      "text9: The Man Who Was Thursday by G . K . Chesterton 1908\n"
     ]
    }
   ],
   "source": [
    "from nltk.book import *"
   ]
  },
  {
   "cell_type": "markdown",
   "metadata": {},
   "source": [
    "### Demo 2"
   ]
  },
  {
   "cell_type": "code",
   "execution_count": 3,
   "metadata": {},
   "outputs": [
    {
     "name": "stdout",
     "output_type": "stream",
     "text": [
      "Displaying 20 of 566 matches:\n",
      " had resolved never to be taught . Marianne ' s abilities were , in many respe\n",
      "had already imbibed a good deal of Marianne ' s romance , without having much \n",
      "hing . \" In a few months , my dear Marianne .\" said she , \" Elinor will , in a\n",
      "d ' s heart . But you look grave , Marianne ; do you disapprove your sister ' \n",
      "er ' s choice ?\" \" Perhaps ,\" said Marianne , \" I may consider it with some su\n",
      "er ? In one circumstance only , my Marianne , may your destiny be different fr\n",
      "What a pity it is , Elinor ,\" said Marianne , \" that Edward should have no tas\n",
      "eral direct him perfectly right .\" Marianne was afraid of offending , and said\n",
      "ard which produced it . \" I hope , Marianne ,\" continued Elinor , \" you do not\n",
      "you could never be civil to him .\" Marianne hardly knew what to say . She woul\n",
      "ld express yourself more warmly .\" Marianne was rejoiced to find her sister so\n",
      "least , almost so . What say you , Marianne ?\" \" I shall very soon think him h\n",
      "ed greater certainty of it to make Marianne ' s conviction of their attachment\n",
      "eeable to her . She knew that what Marianne and her mother conjectured one mom\n",
      "reatly esteem , that I like him .\" Marianne here burst forth with indignation \n",
      "er a great fortune or high rank .\" Marianne was astonished to find how much th\n",
      "Edward in so prosperous a state as Marianne had believed it . There was , at t\n",
      "ks , with a handsome pianoforte of Marianne ' s . Mrs . John Dashwood saw the \n",
      "ed . \" Dear , dear Norland !\" said Marianne , as she wandered alone before the\n",
      "ions , to form themselves a home . Marianne ' s pianoforte was unpacked and pr\n"
     ]
    }
   ],
   "source": [
    "text2.concordance(\"Marianne\", lines=20)  # default lines listed is 25"
   ]
  },
  {
   "cell_type": "code",
   "execution_count": 4,
   "metadata": {
    "scrolled": true
   },
   "outputs": [
    {
     "name": "stdout",
     "output_type": "stream",
     "text": [
      "Displaying 25 of 66 matches:\n",
      "ree , that sanguine expectation of happiness which is happiness itself . But in\n",
      " expectation of happiness which is happiness itself . But in sorrow she must be\n",
      "early in life to despair of such a happiness . Why should you be less fortunate\n",
      "bourhood . It was necessary to the happiness of both ; for however dissimilar i\n",
      "dent mind . This was the season of happiness to Marianne . Her heart was devote\n",
      "d on her present home . Elinor ' s happiness was not so great . Her heart was n\n",
      "tion it was agreed , that although happiness could only be enjoyed at Whitwell \n",
      "the only form of building in which happiness is attainable , and were I rich en\n",
      "g but a kind of prescience of what happiness I should experience from it , can \n",
      "declared at once his affection and happiness . \" Shall we see you tomorrow to d\n",
      "ile on HIM , and in her sister ' s happiness forgot for a time her own disappoi\n",
      "have wealth or grandeur to do with happiness ?\" \" Grandeur has but little ,\" sa\n",
      "d Marianne , \" money can only give happiness where there is nothing else to giv\n",
      "with the delight of such imaginary happiness . \" We are all unanimous in that w\n",
      " was always eager to promote their happiness as far as she could , soon left th\n",
      "eyond any thing , and his greatest happiness was in being with them . Yet , he \n",
      " leisure has not promoted your own happiness , that your sons will be brought u\n",
      "education or state . Know your own happiness . You want nothing but patience --\n",
      "will , it must ere long become her happiness to prevent your whole youth from b\n",
      " the name of the man on who all my happiness depends .\" \" It is strange ,\" repl\n",
      " Ferrars , it will be more for the happiness of both of you ,' I should resolve\n",
      " to inform her confidante , of her happiness whenever she received a letter fro\n",
      "r ever , and it would give me such happiness , yes , almost the greatest happin\n",
      "piness , yes , almost the greatest happiness I am capable of , to be able to ac\n",
      "gh with your usual anxiety for our happiness ,\" said Elinor , \" you have been o\n"
     ]
    }
   ],
   "source": [
    "text2.concordance (\"happiness\")"
   ]
  },
  {
   "cell_type": "markdown",
   "metadata": {},
   "source": [
    "`.similar(X)` will output words that appear in the text surrounded by similar words to `X`.  This means that the output is likely to include words that are the same part of speech as `X` and words that are synonyms of `X`.  For example, the words that occur in similar contexts to the noun `\"happiness\"` are also nouns:"
   ]
  },
  {
   "cell_type": "code",
   "execution_count": 5,
   "metadata": {
    "scrolled": true
   },
   "outputs": [
    {
     "name": "stdout",
     "output_type": "stream",
     "text": [
      "heart mind time behaviour kindness it attachment attention mother\n",
      "feelings fancy spirits joy and sister own interest son disappointment\n",
      "pleasure\n"
     ]
    }
   ],
   "source": [
    "text2.similar(\"happiness\")"
   ]
  },
  {
   "cell_type": "markdown",
   "metadata": {},
   "source": [
    "`.common_contexts(L, N)` will output words that appear immediately to the left and right of all input words in list `L`.  For example, `\"such\"` and `\"of\"` are found surrounding both `\"kindness\"` and `\"happiness\"` in text2, so they are included in the output of `.common_contexts([\"kindness\", \"happiness\"])`:"
   ]
  },
  {
   "cell_type": "code",
   "execution_count": 33,
   "metadata": {},
   "outputs": [
    {
     "name": "stdout",
     "output_type": "stream",
     "text": [
      "Displaying 30 of 42 matches:\n",
      " ; and by her husband with as much kindness as he could feel towards anybody b\n",
      "ent by such acts of assistance and kindness to them as you have described . Wh\n",
      "iddleton her acknowledgment of his kindness , and her acceptance of his propos\n",
      " they could not give offence . His kindness was not confined to words ; for wi\n",
      "past , as unfortunate . In showing kindness to his cousins therefore he had th\n",
      "y , and vulgar , the gratitude and kindness of Mrs . Dashwood would have been \n",
      "with more than politeness ; with a kindness which Sir John ' s account of him \n",
      " , to which every day gave greater kindness , made such an excuse unnecessary \n",
      " the first had regarded her with a kindness which ensured her a large share of\n",
      "tempt her mother to such imprudent kindness by mentioning the offer , and to t\n",
      "u will always consider me with the kindness which has made everything belongin\n",
      " himself , and did not return your kindness with any cordiality . But all this\n",
      "don , he must go . He valued their kindness beyond any thing , and his greates\n",
      "erly good sort of woman , of whose kindness to you I can have no doubt . And i\n",
      "al of joy , and many assurances of kindness and care ; nor was it a matter of \n",
      "reated them both with all possible kindness , was solicitous on every occasion\n",
      " able to express some sense of her kindness , by saying , \" Poor Elinor ! how \n",
      " did justice to Mrs . Jennings ' s kindness , though its effusions were often \n",
      "cares for ?\" \" Dear ma ' am , this kindness is quite unnecessary . Marianne , \n",
      "he cried ; \" she cannot feel . Her kindness is not sympathy ; her good - natur\n",
      "s they often were by the clamorous kindness of the others . It was a great com\n",
      "d how acceptable Mrs . Ferrars ' s kindness is .\" \" Certainly ,\" said Elinor ;\n",
      " ?-- I saw a vast deal more . Such kindness as fell to the share of nobody but\n",
      "hing ?\" Edward tried to return her kindness as it deserved , but before such w\n",
      " on THEIR ground , and sharing the kindness which they wanted to monopolize . \n",
      "Lucy ; for such a mark of uncommon kindness , vouchsafed on so short an acquai\n",
      "h such ingratitude , where so much kindness had been shewn , so much confidenc\n",
      "nor ' s heart thanked her for such kindness towards Edward , though she could \n",
      " encouragement from the particular kindness of Mrs . Jennings , left her own p\n",
      "the least among them , whose great kindness I shall always thankfully remember\n"
     ]
    }
   ],
   "source": [
    "text2.concordance(\"kindness\", lines=30)"
   ]
  },
  {
   "cell_type": "code",
   "execution_count": 32,
   "metadata": {},
   "outputs": [
    {
     "name": "stdout",
     "output_type": "stream",
     "text": [
      "Displaying 30 of 66 matches:\n",
      "ree , that sanguine expectation of happiness which is happiness itself . But in\n",
      " expectation of happiness which is happiness itself . But in sorrow she must be\n",
      "early in life to despair of such a happiness . Why should you be less fortunate\n",
      "bourhood . It was necessary to the happiness of both ; for however dissimilar i\n",
      "dent mind . This was the season of happiness to Marianne . Her heart was devote\n",
      "d on her present home . Elinor ' s happiness was not so great . Her heart was n\n",
      "tion it was agreed , that although happiness could only be enjoyed at Whitwell \n",
      "the only form of building in which happiness is attainable , and were I rich en\n",
      "g but a kind of prescience of what happiness I should experience from it , can \n",
      "declared at once his affection and happiness . \" Shall we see you tomorrow to d\n",
      "ile on HIM , and in her sister ' s happiness forgot for a time her own disappoi\n",
      "have wealth or grandeur to do with happiness ?\" \" Grandeur has but little ,\" sa\n",
      "d Marianne , \" money can only give happiness where there is nothing else to giv\n",
      "with the delight of such imaginary happiness . \" We are all unanimous in that w\n",
      " was always eager to promote their happiness as far as she could , soon left th\n",
      "eyond any thing , and his greatest happiness was in being with them . Yet , he \n",
      " leisure has not promoted your own happiness , that your sons will be brought u\n",
      "education or state . Know your own happiness . You want nothing but patience --\n",
      "will , it must ere long become her happiness to prevent your whole youth from b\n",
      " the name of the man on who all my happiness depends .\" \" It is strange ,\" repl\n",
      " Ferrars , it will be more for the happiness of both of you ,' I should resolve\n",
      " to inform her confidante , of her happiness whenever she received a letter fro\n",
      "r ever , and it would give me such happiness , yes , almost the greatest happin\n",
      "piness , yes , almost the greatest happiness I am capable of , to be able to ac\n",
      "gh with your usual anxiety for our happiness ,\" said Elinor , \" you have been o\n",
      "' s joy was almost a degree beyond happiness , so great was the perturbation of\n",
      "ght lessen her satisfaction in the happiness of Marianne . They were three days\n",
      " your sister I wish all imaginable happiness ; to Willoughby that he may endeav\n",
      " what , oh what , can do away such happiness as that ?\" \" Many , many circumsta\n",
      "n the bloom of youth , of hope and happiness , saw him , with amazement , remai\n"
     ]
    }
   ],
   "source": [
    "text2.concordance(\"happiness\", lines=30)"
   ]
  },
  {
   "cell_type": "code",
   "execution_count": 29,
   "metadata": {},
   "outputs": [
    {
     "name": "stdout",
     "output_type": "stream",
     "text": [
      "his_and the_which such_as her_as the_of\n"
     ]
    }
   ],
   "source": [
    "text2.common_contexts([\"kindness\", \"happiness\"], num=5)"
   ]
  },
  {
   "cell_type": "code",
   "execution_count": 30,
   "metadata": {},
   "outputs": [
    {
     "name": "stdout",
     "output_type": "stream",
     "text": [
      "his_and\n"
     ]
    }
   ],
   "source": [
    "text2.common_contexts([\"kindness\", \"happiness\"], num=1)"
   ]
  },
  {
   "cell_type": "code",
   "execution_count": 31,
   "metadata": {},
   "outputs": [
    {
     "name": "stdout",
     "output_type": "stream",
     "text": [
      "his_and the_which such_as her_as the_of her_and of_to\n"
     ]
    }
   ],
   "source": [
    "text2.common_contexts([\"kindness\", \"happiness\"])  # defaults to 20 maximum"
   ]
  },
  {
   "cell_type": "markdown",
   "metadata": {},
   "source": [
    "If no result is found, NLTK will output a message that tells you this:"
   ]
  },
  {
   "cell_type": "code",
   "execution_count": 28,
   "metadata": {},
   "outputs": [
    {
     "name": "stdout",
     "output_type": "stream",
     "text": [
      "('The following word(s) were not found:', 'monstrous very')\n"
     ]
    }
   ],
   "source": [
    "text4.common_contexts([\"monstrous\", \"very\"])"
   ]
  },
  {
   "cell_type": "markdown",
   "metadata": {},
   "source": [
    "To see the frequency of a list of words (of any length) as they occur from the beginning through the end of the text, you can use a Lexical Dispersion Plot:"
   ]
  },
  {
   "cell_type": "code",
   "execution_count": 9,
   "metadata": {},
   "outputs": [
    {
     "data": {
      "image/png": "[encoded data removed]",
      "text/plain": [
       "<Figure size 432x288 with 1 Axes>"
      ]
     },
     "metadata": {
      "needs_background": "light"
     },
     "output_type": "display_data"
    }
   ],
   "source": [
    "text2.dispersion_plot([\"happiness\", \"fortune\", \"anxiety\"])"
   ]
  },
  {
   "cell_type": "markdown",
   "metadata": {},
   "source": [
    "### Demo 3"
   ]
  },
  {
   "cell_type": "code",
   "execution_count": 10,
   "metadata": {},
   "outputs": [
    {
     "name": "stdout",
     "output_type": "stream",
     "text": [
      "Length of Moby Dick: 260819\n",
      "Length of Sense and Sensibility: 141576\n"
     ]
    }
   ],
   "source": [
    "md = len(text1)\n",
    "ss = len(text2)\n",
    "print(\"Length of Moby Dick:\", md)\n",
    "print(\"Length of Sense and Sensibility:\", ss)"
   ]
  },
  {
   "cell_type": "code",
   "execution_count": 11,
   "metadata": {},
   "outputs": [
    {
     "name": "stdout",
     "output_type": "stream",
     "text": [
      "Length of vocabulary (unique words) of Moby Dick: 19317\n",
      "Length of vocabulary (unique words) of Sense and Sensibility: 6833\n"
     ]
    }
   ],
   "source": [
    "md_vocab = len(set(text1))\n",
    "ss_vocab = len(set(text2))\n",
    "print(\"Length of vocabulary (unique words) of Moby Dick:\", md_vocab)\n",
    "print(\"Length of vocabulary (unique words) of Sense and Sensibility:\", ss_vocab)"
   ]
  },
  {
   "cell_type": "code",
   "execution_count": 12,
   "metadata": {},
   "outputs": [],
   "source": [
    "# Define a function to measure the diversity of word choice, \n",
    "# or lexical diversity:\n",
    "def lexicalDiversity(t):\n",
    "    return len(set(t))/len(t)"
   ]
  },
  {
   "cell_type": "code",
   "execution_count": 13,
   "metadata": {},
   "outputs": [
    {
     "name": "stdout",
     "output_type": "stream",
     "text": [
      "Lexical Diversity of Moby Dick: 0.07406285585022564\n",
      "Lexical Diversity of Sense and Sensibility: 0.04826383002768831\n"
     ]
    }
   ],
   "source": [
    "print(\"Lexical Diversity of Moby Dick:\", lexicalDiversity(text1))\n",
    "print(\"Lexical Diversity of Sense and Sensibility:\", lexicalDiversity(text2))"
   ]
  },
  {
   "cell_type": "code",
   "execution_count": null,
   "metadata": {},
   "outputs": [],
   "source": []
  },
  {
   "cell_type": "code",
   "execution_count": null,
   "metadata": {},
   "outputs": [],
   "source": []
  }
 ],
 "metadata": {
  "kernelspec": {
   "display_name": "Python 3 (ipykernel)",
   "language": "python",
   "name": "python3"
  },
  "language_info": {
   "codemirror_mode": {
    "name": "ipython",
    "version": 3
   },
   "file_extension": ".py",
   "mimetype": "text/x-python",
   "name": "python",
   "nbconvert_exporter": "python",
   "pygments_lexer": "ipython3",
   "version": "3.9.2"
  }
 },
 "nbformat": 4,
 "nbformat_minor": 4
}
