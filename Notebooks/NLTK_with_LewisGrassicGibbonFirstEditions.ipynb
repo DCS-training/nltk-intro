{
 "cells": [
  {
   "cell_type": "markdown",
   "id": "abroad-scheduling",
   "metadata": {},
   "source": [
    "# NLTK with Lewis Grassic Gibbon First Editions\n",
    "\n",
    "**Data Source:** [National Library of Scotland Data Foundry](https://data.nls.uk/data/digitised-collections/lewis-grassic-gibbon-first-editions/)\n",
    "\n",
    "**Code Reference:** \n",
    "National Library of Scotland. Exploring Lewis Grassic Gibbon First Editions. National Library of Scotland, 2020. https://doi.org/10.34812/gq6w-6e91\n",
    "\n",
    "**Date:** April 6, 2022\n",
    "\n",
    "**Course:** Text Analysis with NLTK (Week 2, Class 3); Centre for Data, Culture & Society"
   ]
  },
  {
   "cell_type": "markdown",
   "id": "valuable-watson",
   "metadata": {},
   "source": [
    "***\n",
    "\n",
    "**Corpus Name:** Lewis Grassic Gibbon First Editions\n",
    "\n",
    "**Questions:**\n",
    "1. What are the most common words in the corpus?\n",
    "    * How many words are in the entire corpus?\n",
    "        * Create a list of all the alphabetic tokens (words)\n",
    "    * Calculate the frequency distribution (`FeqDist()`)\n",
    "    \n",
    "\n",
    "2. What are the most common words in one book from the corpus?\n",
    "    * Identify which files in the corpus are for which book\n",
    "        * Create a list of all the alphabetic tokens (words)\n",
    "    * Calculate the frequency distribution for individual files\n",
    "    \n",
    "\n",
    "3. How does the word choice of the author change from one book to another?\n",
    "    * How many words are in each book (each file in the corpus)?\n",
    "    * How many *unique* words are in each book?\n",
    "        * Normalize (standardize) the words by casefolding\n",
    "    * Lexical diversity = count of unique words / count of all words\n",
    "\n",
    "***\n",
    "\n",
    "## Table of Contents\n",
    "\n",
    "I. [Preparation](#preparation)\n",
    "\n",
    "II. [Normalization](#normalization)\n",
    "\n",
    "III. [Analysis](#analysis)\n",
    "\n",
    "***"
   ]
  },
  {
   "cell_type": "markdown",
   "id": "departmental-addiction",
   "metadata": {},
   "source": [
    "<a id=\"preparation\"></a>\n",
    "## I. Preparation"
   ]
  },
  {
   "cell_type": "code",
   "execution_count": 1,
   "id": "headed-limitation",
   "metadata": {},
   "outputs": [
    {
     "name": "stderr",
     "output_type": "stream",
     "text": [
      "[nltk_data] Downloading package punkt to /home/jovyan/nltk_data...\n",
      "[nltk_data]   Package punkt is already up-to-date!\n",
      "[nltk_data] Downloading package wordnet to /home/jovyan/nltk_data...\n",
      "[nltk_data]   Package wordnet is already up-to-date!\n",
      "[nltk_data] Downloading package stopwords to /home/jovyan/nltk_data...\n",
      "[nltk_data]   Package stopwords is already up-to-date!\n"
     ]
    }
   ],
   "source": [
    "# To load a CSV file with an inventory of the documents in the corpus\n",
    "import pandas as pd\n",
    "\n",
    "# To create data visualizations\n",
    "import altair as alt\n",
    "import matplotlib.pyplot as plt\n",
    "\n",
    "# To perform text analysis\n",
    "import nltk\n",
    "from nltk.tokenize import word_tokenize, sent_tokenize\n",
    "nltk.download('punkt')\n",
    "from nltk.corpus import PlaintextCorpusReader\n",
    "nltk.download('wordnet')\n",
    "from nltk.corpus import wordnet\n",
    "nltk.download('stopwords')\n",
    "from nltk.corpus import stopwords\n",
    "from nltk.text import Text\n",
    "from nltk.probability import FreqDist\n",
    "from nltk.draw.dispersion import dispersion_plot as displt"
   ]
  },
  {
   "cell_type": "code",
   "execution_count": 3,
   "id": "sharp-annex",
   "metadata": {},
   "outputs": [
    {
     "name": "stdout",
     "output_type": "stream",
     "text": [
      "['R', ',', '17U', '\\\\(', 'o', 'First', 'journey', 'National', 'Library', 'of', 'Scotland', 'â', '\\x80\\x98', 'B000054136', '*', 'TIMBUCTOO', 'NIGER', 'BY', 'THE', 'SAME']\n"
     ]
    }
   ],
   "source": [
    "data_directory = \"nls-text-gibbon\"\n",
    "wordlists = PlaintextCorpusReader(data_directory, \"\\d.*\", encoding=\"latin1\")\n",
    "corpus_tokens = wordlists.words()  # method for tokenization\n",
    "print(corpus_tokens[:20])"
   ]
  },
  {
   "cell_type": "markdown",
   "id": "regulation-examination",
   "metadata": {},
   "source": [
    "To get a sense of the data we're working with, let's create a function that tells us how many tokens, sentences, and files are in our corpus!"
   ]
  },
  {
   "cell_type": "code",
   "execution_count": 5,
   "id": "sweet-meeting",
   "metadata": {},
   "outputs": [],
   "source": [
    "def corpusStatistics(plaintext_corpus_read_lists):\n",
    "    total_tokens = 0\n",
    "    total_sents = 0\n",
    "    total_files = 0\n",
    "    for fileid in plaintext_corpus_read_lists.fileids():\n",
    "        total_tokens += len(plaintext_corpus_read_lists.words(fileid))\n",
    "        total_sents += len(plaintext_corpus_read_lists.sents(fileid))\n",
    "        total_files += 1\n",
    "    print(\"Total tokens in LGG corpus:\", total_tokens)\n",
    "    print(\"Total sentences in LGG corpus:\", total_sents)\n",
    "    print(\"Total files in LGG corpus:\", total_files)"
   ]
  },
  {
   "cell_type": "code",
   "execution_count": 6,
   "id": "assumed-toddler",
   "metadata": {},
   "outputs": [
    {
     "name": "stdout",
     "output_type": "stream",
     "text": [
      "Total tokens in LGG corpus: 1506095\n",
      "Total sentences in LGG corpus: 70821\n",
      "Total files in LGG corpus: 16\n"
     ]
    }
   ],
   "source": [
    "corpusStatistics(wordlists)"
   ]
  },
  {
   "cell_type": "code",
   "execution_count": 8,
   "id": "gentle-train",
   "metadata": {},
   "outputs": [
    {
     "name": "stdout",
     "output_type": "stream",
     "text": [
      "['205174241.txt', '205174242.txt', '205174243.txt', '205174244.txt', '205174245.txt', '205174246.txt', '205174247.txt', '205174248.txt', '205174249.txt', '205174250.txt', '205174251.txt', '205174252.txt', '205174253.txt', '205174254.txt', '205174255.txt', '205202834.txt']\n"
     ]
    }
   ],
   "source": [
    "print(wordlists.fileids())"
   ]
  },
  {
   "cell_type": "markdown",
   "id": "russian-finder",
   "metadata": {},
   "source": [
    "What are the names of the books in each of these plaintext (TXT) files?"
   ]
  },
  {
   "cell_type": "code",
   "execution_count": 10,
   "id": "standing-triple",
   "metadata": {},
   "outputs": [
    {
     "data": {
      "text/html": [
       "<div>\n",
       "<style scoped>\n",
       "    .dataframe tbody tr th:only-of-type {\n",
       "        vertical-align: middle;\n",
       "    }\n",
       "\n",
       "    .dataframe tbody tr th {\n",
       "        vertical-align: top;\n",
       "    }\n",
       "\n",
       "    .dataframe thead th {\n",
       "        text-align: right;\n",
       "    }\n",
       "</style>\n",
       "<table border=\"1\" class=\"dataframe\">\n",
       "  <thead>\n",
       "    <tr style=\"text-align: right;\">\n",
       "      <th></th>\n",
       "      <th>fileid</th>\n",
       "      <th>title</th>\n",
       "    </tr>\n",
       "  </thead>\n",
       "  <tbody>\n",
       "    <tr>\n",
       "      <th>0</th>\n",
       "      <td>205174241.txt</td>\n",
       "      <td>Niger - R.176.i</td>\n",
       "    </tr>\n",
       "    <tr>\n",
       "      <th>1</th>\n",
       "      <td>205174242.txt</td>\n",
       "      <td>Thirteenth disciple - Vts.137.d</td>\n",
       "    </tr>\n",
       "    <tr>\n",
       "      <th>2</th>\n",
       "      <td>205174243.txt</td>\n",
       "      <td>Three go back - Vts.152.f.22</td>\n",
       "    </tr>\n",
       "    <tr>\n",
       "      <th>3</th>\n",
       "      <td>205174244.txt</td>\n",
       "      <td>Calends of Cairo - Vts.153.c.16</td>\n",
       "    </tr>\n",
       "    <tr>\n",
       "      <th>4</th>\n",
       "      <td>205174245.txt</td>\n",
       "      <td>Lost trumpet - Vts.143.j.8</td>\n",
       "    </tr>\n",
       "    <tr>\n",
       "      <th>5</th>\n",
       "      <td>205174246.txt</td>\n",
       "      <td>Image and superscription - Vts.118.l.16</td>\n",
       "    </tr>\n",
       "    <tr>\n",
       "      <th>6</th>\n",
       "      <td>205174247.txt</td>\n",
       "      <td>Spartacus - Vts.6.k.19</td>\n",
       "    </tr>\n",
       "    <tr>\n",
       "      <th>7</th>\n",
       "      <td>205174248.txt</td>\n",
       "      <td>Persian dawns, Egyptian nights - Vts.148.d.8</td>\n",
       "    </tr>\n",
       "    <tr>\n",
       "      <th>8</th>\n",
       "      <td>205174249.txt</td>\n",
       "      <td>Scots quair - Cloud howe - NF.523.b.30</td>\n",
       "    </tr>\n",
       "    <tr>\n",
       "      <th>9</th>\n",
       "      <td>205174250.txt</td>\n",
       "      <td>Scots quair - Grey granite - NF.523.b.31</td>\n",
       "    </tr>\n",
       "    <tr>\n",
       "      <th>10</th>\n",
       "      <td>205174251.txt</td>\n",
       "      <td>Scots quair - Sunset song - NF.523.b.29</td>\n",
       "    </tr>\n",
       "    <tr>\n",
       "      <th>11</th>\n",
       "      <td>205174252.txt</td>\n",
       "      <td>Hanno, or, The future of exploration - S.114.j.21</td>\n",
       "    </tr>\n",
       "    <tr>\n",
       "      <th>12</th>\n",
       "      <td>205174253.txt</td>\n",
       "      <td>Nine against the unknown - S.72.d.10</td>\n",
       "    </tr>\n",
       "    <tr>\n",
       "      <th>13</th>\n",
       "      <td>205174254.txt</td>\n",
       "      <td>Conquest of the Maya - S.60.c</td>\n",
       "    </tr>\n",
       "    <tr>\n",
       "      <th>14</th>\n",
       "      <td>205174255.txt</td>\n",
       "      <td>Gay hunter - Vts.215.j.26</td>\n",
       "    </tr>\n",
       "    <tr>\n",
       "      <th>15</th>\n",
       "      <td>205202834.txt</td>\n",
       "      <td>Stained radiance - T.204.f</td>\n",
       "    </tr>\n",
       "  </tbody>\n",
       "</table>\n",
       "</div>"
      ],
      "text/plain": [
       "           fileid                                              title\n",
       "0   205174241.txt                                    Niger - R.176.i\n",
       "1   205174242.txt                    Thirteenth disciple - Vts.137.d\n",
       "2   205174243.txt                       Three go back - Vts.152.f.22\n",
       "3   205174244.txt                    Calends of Cairo - Vts.153.c.16\n",
       "4   205174245.txt                         Lost trumpet - Vts.143.j.8\n",
       "5   205174246.txt            Image and superscription - Vts.118.l.16\n",
       "6   205174247.txt                            Spartacus - Vts.6.k.19 \n",
       "7   205174248.txt       Persian dawns, Egyptian nights - Vts.148.d.8\n",
       "8   205174249.txt             Scots quair - Cloud howe - NF.523.b.30\n",
       "9   205174250.txt           Scots quair - Grey granite - NF.523.b.31\n",
       "10  205174251.txt            Scots quair - Sunset song - NF.523.b.29\n",
       "11  205174252.txt  Hanno, or, The future of exploration - S.114.j.21\n",
       "12  205174253.txt               Nine against the unknown - S.72.d.10\n",
       "13  205174254.txt                      Conquest of the Maya - S.60.c\n",
       "14  205174255.txt                          Gay hunter - Vts.215.j.26\n",
       "15  205202834.txt                         Stained radiance - T.204.f"
      ]
     },
     "execution_count": 10,
     "metadata": {},
     "output_type": "execute_result"
    }
   ],
   "source": [
    "# This is where the pandas library comes in - works with tabular data\n",
    "df = pd.read_csv('nls-text-gibbon/gibbon-inventory.csv', header=None, names=['fileid', 'title'])\n",
    "df"
   ]
  },
  {
   "cell_type": "markdown",
   "id": "alternative-newark",
   "metadata": {},
   "source": [
    "Let's create a **dictionary**, one of the Python data types, that associates each `fileid` with each `title`.  That way we can quickly determine from our text analysis with NLTK what book we are looking at, since NLTK uses the fileids (the names of the files in our data directory, a.k.a. folder)."
   ]
  },
  {
   "cell_type": "code",
   "execution_count": 12,
   "id": "cooperative-dancing",
   "metadata": {},
   "outputs": [
    {
     "name": "stdout",
     "output_type": "stream",
     "text": [
      "List of file IDs:\n",
      " ['205174241.txt', '205174242.txt', '205174243.txt', '205174244.txt', '205174245.txt', '205174246.txt', '205174247.txt', '205174248.txt', '205174249.txt', '205174250.txt', '205174251.txt', '205174252.txt', '205174253.txt', '205174254.txt', '205174255.txt', '205202834.txt']\n",
      "\n",
      "List of titles:\n",
      " ['Niger - R.176.i', 'Thirteenth disciple - Vts.137.d', 'Three go back - Vts.152.f.22', 'Calends of Cairo - Vts.153.c.16', 'Lost trumpet - Vts.143.j.8', 'Image and superscription - Vts.118.l.16', 'Spartacus - Vts.6.k.19 ', 'Persian dawns, Egyptian nights - Vts.148.d.8', 'Scots quair - Cloud howe - NF.523.b.30', 'Scots quair - Grey granite - NF.523.b.31', 'Scots quair - Sunset song - NF.523.b.29', 'Hanno, or, The future of exploration - S.114.j.21', 'Nine against the unknown - S.72.d.10', 'Conquest of the Maya - S.60.c', 'Gay hunter - Vts.215.j.26', 'Stained radiance - T.204.f']\n",
      "\n",
      "Dictionary of file IDs and titles:\n",
      " {'205174241.txt': 'Niger - R.176.i', '205174242.txt': 'Thirteenth disciple - Vts.137.d', '205174243.txt': 'Three go back - Vts.152.f.22', '205174244.txt': 'Calends of Cairo - Vts.153.c.16', '205174245.txt': 'Lost trumpet - Vts.143.j.8', '205174246.txt': 'Image and superscription - Vts.118.l.16', '205174247.txt': 'Spartacus - Vts.6.k.19 ', '205174248.txt': 'Persian dawns, Egyptian nights - Vts.148.d.8', '205174249.txt': 'Scots quair - Cloud howe - NF.523.b.30', '205174250.txt': 'Scots quair - Grey granite - NF.523.b.31', '205174251.txt': 'Scots quair - Sunset song - NF.523.b.29', '205174252.txt': 'Hanno, or, The future of exploration - S.114.j.21', '205174253.txt': 'Nine against the unknown - S.72.d.10', '205174254.txt': 'Conquest of the Maya - S.60.c', '205174255.txt': 'Gay hunter - Vts.215.j.26', '205202834.txt': 'Stained radiance - T.204.f'}\n"
     ]
    }
   ],
   "source": [
    "# obtain a list of all file IDs\n",
    "fileids = list(df[\"fileid\"])\n",
    "print(\"List of file IDs:\\n\", fileids)\n",
    "print()\n",
    "\n",
    "# obtain a list of all titles\n",
    "titles = list(df[\"title\"])\n",
    "print(\"List of titles:\\n\", titles)\n",
    "print()\n",
    "\n",
    "# create a dictionary where the keys are file IDs and the values are titles\n",
    "lgg_dict = dict(zip(fileids, titles))\n",
    "print(\"Dictionary of file IDs and titles:\\n\", lgg_dict)"
   ]
  },
  {
   "cell_type": "code",
   "execution_count": 13,
   "id": "necessary-fluid",
   "metadata": {},
   "outputs": [
    {
     "data": {
      "text/plain": [
       "'Scots quair - Sunset song - NF.523.b.29'"
      ]
     },
     "execution_count": 13,
     "metadata": {},
     "output_type": "execute_result"
    }
   ],
   "source": [
    "# Now we can say...\n",
    "a_file_id = fileids[10]\n",
    "lgg_dict[a_file_id]"
   ]
  },
  {
   "cell_type": "code",
   "execution_count": 14,
   "id": "premium-forty",
   "metadata": {},
   "outputs": [
    {
     "data": {
      "text/plain": [
       "'Scots quair - Sunset song - NF.523.b.29'"
      ]
     },
     "execution_count": 14,
     "metadata": {},
     "output_type": "execute_result"
    }
   ],
   "source": [
    "# ...or simply...\n",
    "lgg_dict['205174251.txt']"
   ]
  },
  {
   "cell_type": "markdown",
   "id": "material-iraqi",
   "metadata": {},
   "source": [
    "<a id=\"normalization\"></a>\n",
    "## II. Normalization\n",
    "\n",
    "Let's create lists of all the words (alphabetic tokens) and sentences in the LGG corpus."
   ]
  },
  {
   "cell_type": "code",
   "execution_count": 15,
   "id": "statutory-above",
   "metadata": {},
   "outputs": [],
   "source": [
    "def getWordsSents(plaintext_corpus_read_lists):\n",
    "    all_words = []\n",
    "    all_sents = []\n",
    "    for fileid in plaintext_corpus_read_lists.fileids():\n",
    "        \n",
    "        file_words = plaintext_corpus_read_lists.words(fileid)\n",
    "        all_words += [str(word) for word in file_words if word.isalpha()]\n",
    "        \n",
    "        file_sents = sent_tokenize(plaintext_corpus_read_lists.raw(fileid))\n",
    "        all_sents += [str(sent) for sent in file_sents]\n",
    "        \n",
    "    return all_words, all_sents"
   ]
  },
  {
   "cell_type": "code",
   "execution_count": 16,
   "id": "invalid-stick",
   "metadata": {},
   "outputs": [
    {
     "name": "stdout",
     "output_type": "stream",
     "text": [
      "['R', 'o', 'First', 'journey', 'National', 'Library', 'of', 'Scotland', 'â', 'TIMBUCTOO', 'NIGER', 'BY', 'THE', 'SAME', 'AUTHOR', 'Novels', 'forming', 'the', 'trilogy', 'A']\n"
     ]
    }
   ],
   "source": [
    "lgg_words, lgg_sents = getWordsSents(wordlists)\n",
    "print(lgg_words[:20])"
   ]
  },
  {
   "cell_type": "markdown",
   "id": "several-healthcare",
   "metadata": {},
   "source": [
    "Casefold to normalize so capitalized and lowercased versions of words are considered the same word:"
   ]
  },
  {
   "cell_type": "code",
   "execution_count": 19,
   "id": "relative-alaska",
   "metadata": {},
   "outputs": [
    {
     "name": "stdout",
     "output_type": "stream",
     "text": [
      "['r', 'o', 'first', 'journey', 'national', 'library', 'of', 'scotland', 'â', 'timbuctoo', 'niger', 'by', 'the', 'same', 'author', 'novels', 'forming', 'the', 'trilogy', 'a']\n"
     ]
    }
   ],
   "source": [
    "lgg_words_lower = [word.lower() for word in lgg_words]\n",
    "print(lgg_words_lower[:20])"
   ]
  },
  {
   "cell_type": "markdown",
   "id": "minimal-subcommittee",
   "metadata": {},
   "source": [
    "Exclude stopwords:"
   ]
  },
  {
   "cell_type": "code",
   "execution_count": 20,
   "id": "secret-scottish",
   "metadata": {},
   "outputs": [
    {
     "name": "stdout",
     "output_type": "stream",
     "text": [
      "1260760\n",
      "621940\n"
     ]
    }
   ],
   "source": [
    "to_exclude = set(stopwords.words('english'))\n",
    "filtered_lower = [w for w in lgg_words_lower if (len(w) > 2 and not w in to_exclude)]\n",
    "print(len(lgg_words_lower))\n",
    "print(len(filtered_lower))"
   ]
  },
  {
   "cell_type": "markdown",
   "id": "written-class",
   "metadata": {},
   "source": [
    "<a id=\"analysis\"></a>\n",
    "## III. Analysis"
   ]
  },
  {
   "cell_type": "markdown",
   "id": "medical-enclosure",
   "metadata": {},
   "source": [
    "Calculate the frequency distribution, or the count of occurrences of each word across the entire corpus:"
   ]
  },
  {
   "cell_type": "code",
   "execution_count": 21,
   "id": "portable-iraqi",
   "metadata": {},
   "outputs": [
    {
     "name": "stdout",
     "output_type": "stream",
     "text": [
      "Total words after filtering: 621940\n",
      "50 most common words after filtering: [('would', 3240), ('said', 3142), ('came', 2885), ('like', 2861), ('one', 2599), ('great', 2217), ('back', 2098), ('little', 2085), ('went', 1903), ('looked', 1903), ('long', 1874), ('eyes', 1739), ('night', 1730), ('still', 1647), ('time', 1615), ('face', 1581), ('old', 1564), ('though', 1558), ('man', 1498), ('saw', 1493), ('come', 1481), ('well', 1472), ('two', 1428), ('day', 1423), ('could', 1413), ('men', 1385), ('heâ', 1374), ('chris', 1364), ('never', 1363), ('thought', 1339), ('last', 1265), ('heard', 1241), ('head', 1228), ('made', 1223), ('found', 1161), ('years', 1148), ('mungo', 1145), ('first', 1141), ('away', 1125), ('even', 1112), ('hand', 1088), ('life', 1075), ('far', 1071), ('youâ', 1049), ('upon', 1042), ('new', 1026), ('god', 1021), ('stood', 1015), ('three', 1003), ('see', 994)]\n"
     ]
    }
   ],
   "source": [
    "fdist_filtered_lower = FreqDist(filtered_lower)\n",
    "print(\"Total words after filtering:\", fdist_filtered_lower.N())\n",
    "print(\"50 most common words after filtering:\", fdist_filtered_lower.most_common(50))"
   ]
  },
  {
   "cell_type": "markdown",
   "id": "premier-niagara",
   "metadata": {},
   "source": [
    "*Note the â - we'll talk about how to clean up digitization errors like this that are common to the OCR (optical character recognition) process next class!*"
   ]
  },
  {
   "cell_type": "code",
   "execution_count": 24,
   "id": "phantom-petersburg",
   "metadata": {},
   "outputs": [],
   "source": [
    "import re # Regular Expressions (RegEx)\n",
    "o_exclude = set(stopwords.words('english'))\n",
    "for w in lgg_words_lower:\n",
    "    if re.match('â', w):\n",
    "        w = w.replace('â','')\n",
    "    if (len(w) > 2 and not w in to_exclude):\n",
    "        filtered_lower += [w]"
   ]
  },
  {
   "cell_type": "code",
   "execution_count": 25,
   "id": "asian-playlist",
   "metadata": {},
   "outputs": [
    {
     "data": {
      "image/png": "[encoded data removed]",
      "text/plain": [
       "<Figure size 1440x576 with 1 Axes>"
      ]
     },
     "metadata": {
      "needs_background": "light"
     },
     "output_type": "display_data"
    },
    {
     "data": {
      "text/plain": [
       "<AxesSubplot:title={'center':'Frequency Distribution for 20 Most Common Tokens in the Standardised LGG Dataset (excluding stop words)'}, xlabel='Samples', ylabel='Counts'>"
      ]
     },
     "execution_count": 25,
     "metadata": {},
     "output_type": "execute_result"
    }
   ],
   "source": [
    "fdist_filtered_lower = FreqDist(filtered_lower)\n",
    "plt.figure(figsize = (20, 8))\n",
    "plt.rc('font', size=12)\n",
    "number_of_tokens = 20 # Try increasing or decreasing this number to view more or fewer tokens in the visualization\n",
    "fdist_filtered_lower.plot(number_of_tokens, title='Frequency Distribution for ' + str(number_of_tokens) + ' Most Common Tokens in the Standardised LGG Dataset (excluding stop words)')\n",
    "plt.show()"
   ]
  },
  {
   "cell_type": "code",
   "execution_count": 26,
   "id": "associate-hearing",
   "metadata": {},
   "outputs": [],
   "source": [
    "# INPUT: wordlists and the fileid of the wordlist to be tokenised\n",
    "# OUTPUT: a list of word tokens (in String format) for the inputted fileid\n",
    "def getWords(plaintext_corpus_read_lists, fileid):\n",
    "    file_words = plaintext_corpus_read_lists.words(fileid)\n",
    "    str_words = [str(word) for word in file_words]    \n",
    "    return str_words"
   ]
  },
  {
   "cell_type": "code",
   "execution_count": 27,
   "id": "certain-stanley",
   "metadata": {},
   "outputs": [],
   "source": [
    "words_by_file = []\n",
    "for file in fileids:\n",
    "    words_by_file += [getWords(wordlists, file)]"
   ]
  },
  {
   "cell_type": "code",
   "execution_count": 29,
   "id": "significant-schema",
   "metadata": {},
   "outputs": [],
   "source": [
    "# INPUT: a list of words in String format\n",
    "# OUTPUT: the number of unique words divided by\n",
    "#         the total words in the inputted list\n",
    "def lexicalDiversity(str_words_list):\n",
    "    return len(set(str_words_list))/len(str_words_list)"
   ]
  },
  {
   "cell_type": "markdown",
   "id": "strange-truck",
   "metadata": {},
   "source": [
    "Add to the inventory..."
   ]
  },
  {
   "cell_type": "code",
   "execution_count": 30,
   "id": "bizarre-radical",
   "metadata": {},
   "outputs": [
    {
     "data": {
      "text/html": [
       "<div>\n",
       "<style scoped>\n",
       "    .dataframe tbody tr th:only-of-type {\n",
       "        vertical-align: middle;\n",
       "    }\n",
       "\n",
       "    .dataframe tbody tr th {\n",
       "        vertical-align: top;\n",
       "    }\n",
       "\n",
       "    .dataframe thead th {\n",
       "        text-align: right;\n",
       "    }\n",
       "</style>\n",
       "<table border=\"1\" class=\"dataframe\">\n",
       "  <thead>\n",
       "    <tr style=\"text-align: right;\">\n",
       "      <th></th>\n",
       "      <th>fileid</th>\n",
       "      <th>title</th>\n",
       "      <th>lexicaldiversity</th>\n",
       "    </tr>\n",
       "  </thead>\n",
       "  <tbody>\n",
       "    <tr>\n",
       "      <th>10</th>\n",
       "      <td>205174251.txt</td>\n",
       "      <td>Scots quair - Sunset song - NF.523.b.29</td>\n",
       "      <td>0.065385</td>\n",
       "    </tr>\n",
       "    <tr>\n",
       "      <th>8</th>\n",
       "      <td>205174249.txt</td>\n",
       "      <td>Scots quair - Cloud howe - NF.523.b.30</td>\n",
       "      <td>0.070213</td>\n",
       "    </tr>\n",
       "    <tr>\n",
       "      <th>6</th>\n",
       "      <td>205174247.txt</td>\n",
       "      <td>Spartacus - Vts.6.k.19</td>\n",
       "      <td>0.087958</td>\n",
       "    </tr>\n",
       "    <tr>\n",
       "      <th>9</th>\n",
       "      <td>205174250.txt</td>\n",
       "      <td>Scots quair - Grey granite - NF.523.b.31</td>\n",
       "      <td>0.089606</td>\n",
       "    </tr>\n",
       "    <tr>\n",
       "      <th>5</th>\n",
       "      <td>205174246.txt</td>\n",
       "      <td>Image and superscription - Vts.118.l.16</td>\n",
       "      <td>0.099516</td>\n",
       "    </tr>\n",
       "    <tr>\n",
       "      <th>2</th>\n",
       "      <td>205174243.txt</td>\n",
       "      <td>Three go back - Vts.152.f.22</td>\n",
       "      <td>0.099821</td>\n",
       "    </tr>\n",
       "    <tr>\n",
       "      <th>14</th>\n",
       "      <td>205174255.txt</td>\n",
       "      <td>Gay hunter - Vts.215.j.26</td>\n",
       "      <td>0.105574</td>\n",
       "    </tr>\n",
       "    <tr>\n",
       "      <th>12</th>\n",
       "      <td>205174253.txt</td>\n",
       "      <td>Nine against the unknown - S.72.d.10</td>\n",
       "      <td>0.110520</td>\n",
       "    </tr>\n",
       "    <tr>\n",
       "      <th>4</th>\n",
       "      <td>205174245.txt</td>\n",
       "      <td>Lost trumpet - Vts.143.j.8</td>\n",
       "      <td>0.111272</td>\n",
       "    </tr>\n",
       "    <tr>\n",
       "      <th>3</th>\n",
       "      <td>205174244.txt</td>\n",
       "      <td>Calends of Cairo - Vts.153.c.16</td>\n",
       "      <td>0.111771</td>\n",
       "    </tr>\n",
       "    <tr>\n",
       "      <th>0</th>\n",
       "      <td>205174241.txt</td>\n",
       "      <td>Niger - R.176.i</td>\n",
       "      <td>0.116924</td>\n",
       "    </tr>\n",
       "    <tr>\n",
       "      <th>13</th>\n",
       "      <td>205174254.txt</td>\n",
       "      <td>Conquest of the Maya - S.60.c</td>\n",
       "      <td>0.119545</td>\n",
       "    </tr>\n",
       "    <tr>\n",
       "      <th>15</th>\n",
       "      <td>205202834.txt</td>\n",
       "      <td>Stained radiance - T.204.f</td>\n",
       "      <td>0.123920</td>\n",
       "    </tr>\n",
       "    <tr>\n",
       "      <th>7</th>\n",
       "      <td>205174248.txt</td>\n",
       "      <td>Persian dawns, Egyptian nights - Vts.148.d.8</td>\n",
       "      <td>0.124095</td>\n",
       "    </tr>\n",
       "    <tr>\n",
       "      <th>1</th>\n",
       "      <td>205174242.txt</td>\n",
       "      <td>Thirteenth disciple - Vts.137.d</td>\n",
       "      <td>0.128709</td>\n",
       "    </tr>\n",
       "    <tr>\n",
       "      <th>11</th>\n",
       "      <td>205174252.txt</td>\n",
       "      <td>Hanno, or, The future of exploration - S.114.j.21</td>\n",
       "      <td>0.213570</td>\n",
       "    </tr>\n",
       "  </tbody>\n",
       "</table>\n",
       "</div>"
      ],
      "text/plain": [
       "           fileid                                              title  \\\n",
       "10  205174251.txt            Scots quair - Sunset song - NF.523.b.29   \n",
       "8   205174249.txt             Scots quair - Cloud howe - NF.523.b.30   \n",
       "6   205174247.txt                            Spartacus - Vts.6.k.19    \n",
       "9   205174250.txt           Scots quair - Grey granite - NF.523.b.31   \n",
       "5   205174246.txt            Image and superscription - Vts.118.l.16   \n",
       "2   205174243.txt                       Three go back - Vts.152.f.22   \n",
       "14  205174255.txt                          Gay hunter - Vts.215.j.26   \n",
       "12  205174253.txt               Nine against the unknown - S.72.d.10   \n",
       "4   205174245.txt                         Lost trumpet - Vts.143.j.8   \n",
       "3   205174244.txt                    Calends of Cairo - Vts.153.c.16   \n",
       "0   205174241.txt                                    Niger - R.176.i   \n",
       "13  205174254.txt                      Conquest of the Maya - S.60.c   \n",
       "15  205202834.txt                         Stained radiance - T.204.f   \n",
       "7   205174248.txt       Persian dawns, Egyptian nights - Vts.148.d.8   \n",
       "1   205174242.txt                    Thirteenth disciple - Vts.137.d   \n",
       "11  205174252.txt  Hanno, or, The future of exploration - S.114.j.21   \n",
       "\n",
       "    lexicaldiversity  \n",
       "10          0.065385  \n",
       "8           0.070213  \n",
       "6           0.087958  \n",
       "9           0.089606  \n",
       "5           0.099516  \n",
       "2           0.099821  \n",
       "14          0.105574  \n",
       "12          0.110520  \n",
       "4           0.111272  \n",
       "3           0.111771  \n",
       "0           0.116924  \n",
       "13          0.119545  \n",
       "15          0.123920  \n",
       "7           0.124095  \n",
       "1           0.128709  \n",
       "11          0.213570  "
      ]
     },
     "execution_count": 30,
     "metadata": {},
     "output_type": "execute_result"
    }
   ],
   "source": [
    "lexdiv_by_file = []\n",
    "for words in words_by_file:\n",
    "    lexdiv_by_file += [lexicalDiversity(words)]\n",
    "\n",
    "df['lexicaldiversity'] = lexdiv_by_file\n",
    "df_lexdiv = df.sort_values(by=['lexicaldiversity', 'title'], inplace=False, ascending=True)\n",
    "df_lexdiv"
   ]
  },
  {
   "cell_type": "markdown",
   "id": "contemporary-evanescence",
   "metadata": {},
   "source": [
    "For the entire corpus:"
   ]
  },
  {
   "cell_type": "code",
   "execution_count": 31,
   "id": "honey-momentum",
   "metadata": {},
   "outputs": [
    {
     "data": {
      "text/plain": [
       "0.034381642818617345"
      ]
     },
     "execution_count": 31,
     "metadata": {},
     "output_type": "execute_result"
    }
   ],
   "source": [
    "lexicalDiversity(lgg_words_lower)"
   ]
  },
  {
   "cell_type": "markdown",
   "id": "alert-berkeley",
   "metadata": {},
   "source": [
    "The table isn't bad but charts can make it easier to compare calculations more quickly, so let's visualize the lexical diversity scores!"
   ]
  },
  {
   "cell_type": "code",
   "execution_count": 36,
   "id": "genuine-korea",
   "metadata": {},
   "outputs": [
    {
     "data": {
      "text/html": [
       "\n",
       "<div id=\"altair-viz-7da3cc612f834908827c8d88072865dc\"></div>\n",
       "<script type=\"text/javascript\">\n",
       "  (function(spec, embedOpt){\n",
       "    let outputDiv = document.currentScript.previousElementSibling;\n",
       "    if (outputDiv.id !== \"altair-viz-7da3cc612f834908827c8d88072865dc\") {\n",
       "      outputDiv = document.getElementById(\"altair-viz-7da3cc612f834908827c8d88072865dc\");\n",
       "    }\n",
       "    const paths = {\n",
       "      \"vega\": \"https://cdn.jsdelivr.net/npm//vega@5?noext\",\n",
       "      \"vega-lib\": \"https://cdn.jsdelivr.net/npm//vega-lib?noext\",\n",
       "      \"vega-lite\": \"https://cdn.jsdelivr.net/npm//vega-lite@4.8.1?noext\",\n",
       "      \"vega-embed\": \"https://cdn.jsdelivr.net/npm//vega-embed@6?noext\",\n",
       "    };\n",
       "\n",
       "    function loadScript(lib) {\n",
       "      return new Promise(function(resolve, reject) {\n",
       "        var s = document.createElement('script');\n",
       "        s.src = paths[lib];\n",
       "        s.async = true;\n",
       "        s.onload = () => resolve(paths[lib]);\n",
       "        s.onerror = () => reject(`Error loading script: ${paths[lib]}`);\n",
       "        document.getElementsByTagName(\"head\")[0].appendChild(s);\n",
       "      });\n",
       "    }\n",
       "\n",
       "    function showError(err) {\n",
       "      outputDiv.innerHTML = `<div class=\"error\" style=\"color:red;\">${err}</div>`;\n",
       "      throw err;\n",
       "    }\n",
       "\n",
       "    function displayChart(vegaEmbed) {\n",
       "      vegaEmbed(outputDiv, spec, embedOpt)\n",
       "        .catch(err => showError(`Javascript Error: ${err.message}<br>This usually means there's a typo in your chart specification. See the javascript console for the full traceback.`));\n",
       "    }\n",
       "\n",
       "    if(typeof define === \"function\" && define.amd) {\n",
       "      requirejs.config({paths});\n",
       "      require([\"vega-embed\"], displayChart, err => showError(`Error loading script: ${err.message}`));\n",
       "    } else if (typeof vegaEmbed === \"function\") {\n",
       "      displayChart(vegaEmbed);\n",
       "    } else {\n",
       "      loadScript(\"vega\")\n",
       "        .then(() => loadScript(\"vega-lite\"))\n",
       "        .then(() => loadScript(\"vega-embed\"))\n",
       "        .catch(showError)\n",
       "        .then(() => displayChart(vegaEmbed));\n",
       "    }\n",
       "  })({\"config\": {\"view\": {\"continuousWidth\": 400, \"continuousHeight\": 300, \"strokeWidth\": 0}, \"axis\": {\"grid\": false}}, \"data\": {\"name\": \"data-2d4a7f216b0786e206758b707cbee452\"}, \"mark\": {\"type\": \"bar\", \"size\": 30}, \"encoding\": {\"order\": {\"type\": \"quantitative\", \"field\": \"Lexdiv\", \"sort\": \"ascending\"}, \"x\": {\"type\": \"nominal\", \"axis\": {\"title\": \"Lewis Grassic Gibbon Work\"}, \"field\": \"Title\", \"sort\": null}, \"y\": {\"type\": \"quantitative\", \"axis\": {\"title\": \"Lexical Diversity\"}, \"field\": \"Lexdiv\"}}, \"title\": \"Lexical Diversity of Gibbon's Works\", \"width\": 500, \"$schema\": \"https://vega.github.io/schema/vega-lite/v4.8.1.json\", \"datasets\": {\"data-2d4a7f216b0786e206758b707cbee452\": [{\"Title\": \"Scots quair - Sunset song - NF.523.b.29\", \"Lexdiv\": 0.06538519872598246}, {\"Title\": \"Scots quair - Cloud howe - NF.523.b.30\", \"Lexdiv\": 0.07021296042409286}, {\"Title\": \"Spartacus - Vts.6.k.19 \", \"Lexdiv\": 0.08795843722197204}, {\"Title\": \"Scots quair - Grey granite - NF.523.b.31\", \"Lexdiv\": 0.08960642733651988}, {\"Title\": \"Image and superscription - Vts.118.l.16\", \"Lexdiv\": 0.09951604375940461}, {\"Title\": \"Three go back - Vts.152.f.22\", \"Lexdiv\": 0.0998212322759019}, {\"Title\": \"Gay hunter - Vts.215.j.26\", \"Lexdiv\": 0.10557405894551625}, {\"Title\": \"Nine against the unknown - S.72.d.10\", \"Lexdiv\": 0.11051980040072999}, {\"Title\": \"Lost trumpet - Vts.143.j.8\", \"Lexdiv\": 0.11127203362888127}, {\"Title\": \"Calends of Cairo - Vts.153.c.16\", \"Lexdiv\": 0.11177101967799642}, {\"Title\": \"Niger - R.176.i\", \"Lexdiv\": 0.11692370324249246}, {\"Title\": \"Conquest of the Maya - S.60.c\", \"Lexdiv\": 0.11954497847084837}, {\"Title\": \"Stained radiance - T.204.f\", \"Lexdiv\": 0.12392037891217533}, {\"Title\": \"Persian dawns, Egyptian nights - Vts.148.d.8\", \"Lexdiv\": 0.12409457781456953}, {\"Title\": \"Thirteenth disciple - Vts.137.d\", \"Lexdiv\": 0.12870929059519956}, {\"Title\": \"Hanno, or, The future of exploration - S.114.j.21\", \"Lexdiv\": 0.21356950395335483}]}}, {\"mode\": \"vega-lite\"});\n",
       "</script>"
      ],
      "text/plain": [
       "alt.Chart(...)"
      ]
     },
     "execution_count": 36,
     "metadata": {},
     "output_type": "execute_result"
    }
   ],
   "source": [
    "sorted_titles = list(df_lexdiv['title'])\n",
    "sorted_lexdiv = list(df_lexdiv['lexicaldiversity'])\n",
    "source = pd.DataFrame({\n",
    "    'Title': sorted_titles,\n",
    "    'Lexdiv': sorted_lexdiv\n",
    "})\n",
    "\n",
    "alt.Chart(source, title=\"Lexical Diversity of Gibbon's Works\").mark_bar(size=30).encode(\n",
    "    alt.X('Title', axis=alt.Axis(title='Lewis Grassic Gibbon Work'), type='nominal', sort=None),  # If sort unspecified, chart will sort x-axis values alphabetically\n",
    "    alt.Y('Lexdiv', axis=alt.Axis(title='Lexical Diversity')),\n",
    "    alt.Order(\n",
    "      # Sort the segments of the bars by this field\n",
    "      'Lexdiv',\n",
    "      sort='ascending'\n",
    "    )\n",
    ").configure_axis(\n",
    "    grid=False\n",
    ").configure_view(\n",
    "    strokeWidth=0\n",
    ").properties(\n",
    "    width=500\n",
    ")\n",
    "\n",
    "#     alt.Y('Lexdiv', axis=alt.Axis(format='%', title='Lexical Diversity')),"
   ]
  },
  {
   "cell_type": "markdown",
   "id": "suspended-cardiff",
   "metadata": {},
   "source": [
    "Could we sort these chronologically?\n",
    "\n",
    "We can add information available from the [digital.nls.uk](https://data.nls.uk/wp-content/uploads/2020/10/digital.nls.uk) website about the publication dates to our inventory..."
   ]
  },
  {
   "cell_type": "code",
   "execution_count": 33,
   "id": "shared-messaging",
   "metadata": {},
   "outputs": [
    {
     "data": {
      "text/html": [
       "<div>\n",
       "<style scoped>\n",
       "    .dataframe tbody tr th:only-of-type {\n",
       "        vertical-align: middle;\n",
       "    }\n",
       "\n",
       "    .dataframe tbody tr th {\n",
       "        vertical-align: top;\n",
       "    }\n",
       "\n",
       "    .dataframe thead th {\n",
       "        text-align: right;\n",
       "    }\n",
       "</style>\n",
       "<table border=\"1\" class=\"dataframe\">\n",
       "  <thead>\n",
       "    <tr style=\"text-align: right;\">\n",
       "      <th></th>\n",
       "      <th>fileid</th>\n",
       "      <th>title</th>\n",
       "      <th>lexicaldiversity</th>\n",
       "      <th>published</th>\n",
       "    </tr>\n",
       "  </thead>\n",
       "  <tbody>\n",
       "    <tr>\n",
       "      <th>11</th>\n",
       "      <td>205174252.txt</td>\n",
       "      <td>Hanno, or, The future of exploration - S.114.j.21</td>\n",
       "      <td>0.213570</td>\n",
       "      <td>1928</td>\n",
       "    </tr>\n",
       "    <tr>\n",
       "      <th>7</th>\n",
       "      <td>205174248.txt</td>\n",
       "      <td>Persian dawns, Egyptian nights - Vts.148.d.8</td>\n",
       "      <td>0.124095</td>\n",
       "      <td>1930</td>\n",
       "    </tr>\n",
       "    <tr>\n",
       "      <th>3</th>\n",
       "      <td>205174244.txt</td>\n",
       "      <td>Calends of Cairo - Vts.153.c.16</td>\n",
       "      <td>0.111771</td>\n",
       "      <td>1931</td>\n",
       "    </tr>\n",
       "    <tr>\n",
       "      <th>1</th>\n",
       "      <td>205174242.txt</td>\n",
       "      <td>Thirteenth disciple - Vts.137.d</td>\n",
       "      <td>0.128709</td>\n",
       "      <td>1931</td>\n",
       "    </tr>\n",
       "    <tr>\n",
       "      <th>0</th>\n",
       "      <td>205174241.txt</td>\n",
       "      <td>Niger - R.176.i</td>\n",
       "      <td>0.116924</td>\n",
       "      <td>1932</td>\n",
       "    </tr>\n",
       "  </tbody>\n",
       "</table>\n",
       "</div>"
      ],
      "text/plain": [
       "           fileid                                              title  \\\n",
       "11  205174252.txt  Hanno, or, The future of exploration - S.114.j.21   \n",
       "7   205174248.txt       Persian dawns, Egyptian nights - Vts.148.d.8   \n",
       "3   205174244.txt                    Calends of Cairo - Vts.153.c.16   \n",
       "1   205174242.txt                    Thirteenth disciple - Vts.137.d   \n",
       "0   205174241.txt                                    Niger - R.176.i   \n",
       "\n",
       "    lexicaldiversity  published  \n",
       "11          0.213570       1928  \n",
       "7           0.124095       1930  \n",
       "3           0.111771       1931  \n",
       "1           0.128709       1931  \n",
       "0           0.116924       1932  "
      ]
     },
     "execution_count": 33,
     "metadata": {},
     "output_type": "execute_result"
    }
   ],
   "source": [
    "published = [1932, 1933, 1933, 1934, 1933, 1932, 1934, 1934, 1934, 1931, 1932, 1934, 1932, 1930, 1931, 1928]\n",
    "df_lexdiv['published'] = published\n",
    "df_pub = df_lexdiv.sort_values(by=['published', 'title'], inplace=False, ascending=True)\n",
    "df_pub.head()"
   ]
  },
  {
   "cell_type": "markdown",
   "id": "imperial-composer",
   "metadata": {},
   "source": [
    "Then we can recreate the bar chart with the bars (books) sorted by year of publication:"
   ]
  },
  {
   "cell_type": "code",
   "execution_count": 35,
   "id": "million-beaver",
   "metadata": {},
   "outputs": [
    {
     "data": {
      "text/html": [
       "\n",
       "<div id=\"altair-viz-ff7fa3fcfc764240a3883bb5ea2d6114\"></div>\n",
       "<script type=\"text/javascript\">\n",
       "  (function(spec, embedOpt){\n",
       "    let outputDiv = document.currentScript.previousElementSibling;\n",
       "    if (outputDiv.id !== \"altair-viz-ff7fa3fcfc764240a3883bb5ea2d6114\") {\n",
       "      outputDiv = document.getElementById(\"altair-viz-ff7fa3fcfc764240a3883bb5ea2d6114\");\n",
       "    }\n",
       "    const paths = {\n",
       "      \"vega\": \"https://cdn.jsdelivr.net/npm//vega@5?noext\",\n",
       "      \"vega-lib\": \"https://cdn.jsdelivr.net/npm//vega-lib?noext\",\n",
       "      \"vega-lite\": \"https://cdn.jsdelivr.net/npm//vega-lite@4.8.1?noext\",\n",
       "      \"vega-embed\": \"https://cdn.jsdelivr.net/npm//vega-embed@6?noext\",\n",
       "    };\n",
       "\n",
       "    function loadScript(lib) {\n",
       "      return new Promise(function(resolve, reject) {\n",
       "        var s = document.createElement('script');\n",
       "        s.src = paths[lib];\n",
       "        s.async = true;\n",
       "        s.onload = () => resolve(paths[lib]);\n",
       "        s.onerror = () => reject(`Error loading script: ${paths[lib]}`);\n",
       "        document.getElementsByTagName(\"head\")[0].appendChild(s);\n",
       "      });\n",
       "    }\n",
       "\n",
       "    function showError(err) {\n",
       "      outputDiv.innerHTML = `<div class=\"error\" style=\"color:red;\">${err}</div>`;\n",
       "      throw err;\n",
       "    }\n",
       "\n",
       "    function displayChart(vegaEmbed) {\n",
       "      vegaEmbed(outputDiv, spec, embedOpt)\n",
       "        .catch(err => showError(`Javascript Error: ${err.message}<br>This usually means there's a typo in your chart specification. See the javascript console for the full traceback.`));\n",
       "    }\n",
       "\n",
       "    if(typeof define === \"function\" && define.amd) {\n",
       "      requirejs.config({paths});\n",
       "      require([\"vega-embed\"], displayChart, err => showError(`Error loading script: ${err.message}`));\n",
       "    } else if (typeof vegaEmbed === \"function\") {\n",
       "      displayChart(vegaEmbed);\n",
       "    } else {\n",
       "      loadScript(\"vega\")\n",
       "        .then(() => loadScript(\"vega-lite\"))\n",
       "        .then(() => loadScript(\"vega-embed\"))\n",
       "        .catch(showError)\n",
       "        .then(() => displayChart(vegaEmbed));\n",
       "    }\n",
       "  })({\"config\": {\"view\": {\"continuousWidth\": 400, \"continuousHeight\": 300, \"strokeWidth\": 0}, \"axis\": {\"grid\": false, \"labelAngle\": -45, \"labelFontSize\": 12, \"titleFontSize\": 12}, \"title\": {\"fontSize\": 14}}, \"data\": {\"name\": \"data-c9301429cd71fc4a45dbaf4e679e65cf\"}, \"mark\": {\"type\": \"bar\", \"size\": 30}, \"encoding\": {\"color\": {\"type\": \"ordinal\", \"field\": \"Published\", \"legend\": {\"title\": \"Date Published\"}}, \"order\": {\"type\": \"quantitative\", \"field\": \"Lexdiv\", \"sort\": \"descending\"}, \"tooltip\": {\"type\": \"nominal\", \"field\": \"Title\"}, \"x\": {\"type\": \"nominal\", \"axis\": {\"title\": \"Title of Lewis Grassic Gibbon Work\"}, \"field\": \"Title\", \"sort\": null}, \"y\": {\"type\": \"quantitative\", \"axis\": {\"title\": \"Lexical Diversity\"}, \"field\": \"Lexdiv\"}}, \"title\": \"Lexical Diversity of Gibbon's Works\", \"width\": 500, \"$schema\": \"https://vega.github.io/schema/vega-lite/v4.8.1.json\", \"datasets\": {\"data-c9301429cd71fc4a45dbaf4e679e65cf\": [{\"Title\": \"Hanno, or, The future of exploration - S.114.j.21\", \"Lexdiv\": 0.21356950395335483, \"Published\": 1928}, {\"Title\": \"Persian dawns, Egyptian nights - Vts.148.d.8\", \"Lexdiv\": 0.12409457781456953, \"Published\": 1930}, {\"Title\": \"Calends of Cairo - Vts.153.c.16\", \"Lexdiv\": 0.11177101967799642, \"Published\": 1931}, {\"Title\": \"Thirteenth disciple - Vts.137.d\", \"Lexdiv\": 0.12870929059519956, \"Published\": 1931}, {\"Title\": \"Niger - R.176.i\", \"Lexdiv\": 0.11692370324249246, \"Published\": 1932}, {\"Title\": \"Scots quair - Sunset song - NF.523.b.29\", \"Lexdiv\": 0.06538519872598246, \"Published\": 1932}, {\"Title\": \"Stained radiance - T.204.f\", \"Lexdiv\": 0.12392037891217533, \"Published\": 1932}, {\"Title\": \"Three go back - Vts.152.f.22\", \"Lexdiv\": 0.0998212322759019, \"Published\": 1932}, {\"Title\": \"Image and superscription - Vts.118.l.16\", \"Lexdiv\": 0.09951604375940461, \"Published\": 1933}, {\"Title\": \"Scots quair - Cloud howe - NF.523.b.30\", \"Lexdiv\": 0.07021296042409286, \"Published\": 1933}, {\"Title\": \"Spartacus - Vts.6.k.19 \", \"Lexdiv\": 0.08795843722197204, \"Published\": 1933}, {\"Title\": \"Conquest of the Maya - S.60.c\", \"Lexdiv\": 0.11954497847084837, \"Published\": 1934}, {\"Title\": \"Gay hunter - Vts.215.j.26\", \"Lexdiv\": 0.10557405894551625, \"Published\": 1934}, {\"Title\": \"Lost trumpet - Vts.143.j.8\", \"Lexdiv\": 0.11127203362888127, \"Published\": 1934}, {\"Title\": \"Nine against the unknown - S.72.d.10\", \"Lexdiv\": 0.11051980040072999, \"Published\": 1934}, {\"Title\": \"Scots quair - Grey granite - NF.523.b.31\", \"Lexdiv\": 0.08960642733651988, \"Published\": 1934}]}}, {\"mode\": \"vega-lite\"});\n",
       "</script>"
      ],
      "text/plain": [
       "alt.Chart(...)"
      ]
     },
     "execution_count": 35,
     "metadata": {},
     "output_type": "execute_result"
    }
   ],
   "source": [
    "sorted_titles = list(df_pub['title'])\n",
    "sorted_lexdiv = list(df_pub['lexicaldiversity'])\n",
    "sorted_published = list(df_pub['published'])\n",
    "source = pd.DataFrame({\n",
    "    'Title': sorted_titles,\n",
    "    'Lexdiv': sorted_lexdiv,\n",
    "    'Published': sorted_published\n",
    "})\n",
    "\n",
    "alt.Chart(source, title=\"Lexical Diversity of Gibbon's Works\").mark_bar(size=30).encode(\n",
    "    alt.X('Title', axis=alt.Axis(title='Title of Lewis Grassic Gibbon Work'), type='nominal', sort=None),  # If sort unspecified, chart will sort x-axis values alphabetically\n",
    "    alt.Y('Lexdiv', axis=alt.Axis(title='Lexical Diversity')),\n",
    "    alt.Order(\n",
    "      # Sort the segments of the bars by this field\n",
    "      'Lexdiv',\n",
    "      sort='descending'\n",
    "    ),\n",
    "    color=alt.Color('Published:O', legend = alt.Legend(title='Date Published')),\n",
    "    tooltip='Title:N'\n",
    ").configure_axis(\n",
    "    grid=False,\n",
    "    labelFontSize=12,\n",
    "    titleFontSize=12,\n",
    "    labelAngle=-45\n",
    ").configure_title(\n",
    "    fontSize=14,\n",
    ").configure_view(\n",
    "    strokeWidth=0\n",
    ").properties(\n",
    "    width=500\n",
    ")"
   ]
  },
  {
   "cell_type": "markdown",
   "id": "legitimate-dollar",
   "metadata": {},
   "source": [
    "To get the lexical diversity per year..."
   ]
  },
  {
   "cell_type": "code",
   "execution_count": 37,
   "id": "architectural-bolivia",
   "metadata": {},
   "outputs": [
    {
     "name": "stdout",
     "output_type": "stream",
     "text": [
      "{1928: ['205174252.txt'], 1930: ['205174248.txt'], 1931: ['205174244.txt', '205174242.txt'], 1932: ['205174241.txt', '205174251.txt', '205202834.txt', '205174243.txt'], 1933: ['205174246.txt', '205174249.txt', '205174247.txt'], 1934: ['205174254.txt', '205174255.txt', '205174245.txt', '205174253.txt', '205174250.txt']}\n"
     ]
    }
   ],
   "source": [
    "# dictionary associating works with year they were published\n",
    "pub_yr = {1928: [], 1930: [], 1931: [], 1932: [], 1933: [], 1934: []}\n",
    "for index,row in df_pub.iterrows():\n",
    "    pub_yr[row[3]] += [row[0]]\n",
    "print(pub_yr)"
   ]
  },
  {
   "cell_type": "code",
   "execution_count": 38,
   "id": "urban-salem",
   "metadata": {},
   "outputs": [
    {
     "name": "stdout",
     "output_type": "stream",
     "text": [
      "[0.23601900972590628, 0.13157772585910785, 0.1292755998169271, 0.1069772992539837, 0.09077813517219867, 0.11185025739806571]\n"
     ]
    }
   ],
   "source": [
    "lexdiv_by_year = []\n",
    "for key,value in pub_yr.items():\n",
    "    lexdiv_by_file = []\n",
    "    for fileid in value:\n",
    "        file_words = wordlists.words(fileid)\n",
    "        str_words = [str(w.lower()) for w in file_words if w.isalpha()]\n",
    "        lexdiv_by_file += [lexicalDiversity(str_words)]\n",
    "    lexdiv_by_year += [sum(lexdiv_by_file)/len(lexdiv_by_file)]\n",
    "print(lexdiv_by_year)"
   ]
  },
  {
   "cell_type": "code",
   "execution_count": 39,
   "id": "retired-relief",
   "metadata": {},
   "outputs": [
    {
     "data": {
      "text/plain": [
       "{1928: 0.23601900972590628,\n",
       " 1930: 0.13157772585910785,\n",
       " 1931: 0.1292755998169271,\n",
       " 1932: 0.1069772992539837,\n",
       " 1933: 0.09077813517219867,\n",
       " 1934: 0.11185025739806571}"
      ]
     },
     "execution_count": 39,
     "metadata": {},
     "output_type": "execute_result"
    }
   ],
   "source": [
    "pub_years = [1928, 1930, 1931, 1932, 1933, 1934]\n",
    "pub_lex = dict(zip(pub_years, lexdiv_by_year))\n",
    "pub_lex"
   ]
  },
  {
   "cell_type": "markdown",
   "id": "filled-spanking",
   "metadata": {},
   "source": [
    "Now we can visualize the average lexical diversity score for each year Gibbon published in:"
   ]
  },
  {
   "cell_type": "code",
   "execution_count": 40,
   "id": "acquired-orleans",
   "metadata": {},
   "outputs": [
    {
     "data": {
      "text/html": [
       "\n",
       "<div id=\"altair-viz-ebd44d04b204435aafc8d13c106730a8\"></div>\n",
       "<script type=\"text/javascript\">\n",
       "  (function(spec, embedOpt){\n",
       "    let outputDiv = document.currentScript.previousElementSibling;\n",
       "    if (outputDiv.id !== \"altair-viz-ebd44d04b204435aafc8d13c106730a8\") {\n",
       "      outputDiv = document.getElementById(\"altair-viz-ebd44d04b204435aafc8d13c106730a8\");\n",
       "    }\n",
       "    const paths = {\n",
       "      \"vega\": \"https://cdn.jsdelivr.net/npm//vega@5?noext\",\n",
       "      \"vega-lib\": \"https://cdn.jsdelivr.net/npm//vega-lib?noext\",\n",
       "      \"vega-lite\": \"https://cdn.jsdelivr.net/npm//vega-lite@4.8.1?noext\",\n",
       "      \"vega-embed\": \"https://cdn.jsdelivr.net/npm//vega-embed@6?noext\",\n",
       "    };\n",
       "\n",
       "    function loadScript(lib) {\n",
       "      return new Promise(function(resolve, reject) {\n",
       "        var s = document.createElement('script');\n",
       "        s.src = paths[lib];\n",
       "        s.async = true;\n",
       "        s.onload = () => resolve(paths[lib]);\n",
       "        s.onerror = () => reject(`Error loading script: ${paths[lib]}`);\n",
       "        document.getElementsByTagName(\"head\")[0].appendChild(s);\n",
       "      });\n",
       "    }\n",
       "\n",
       "    function showError(err) {\n",
       "      outputDiv.innerHTML = `<div class=\"error\" style=\"color:red;\">${err}</div>`;\n",
       "      throw err;\n",
       "    }\n",
       "\n",
       "    function displayChart(vegaEmbed) {\n",
       "      vegaEmbed(outputDiv, spec, embedOpt)\n",
       "        .catch(err => showError(`Javascript Error: ${err.message}<br>This usually means there's a typo in your chart specification. See the javascript console for the full traceback.`));\n",
       "    }\n",
       "\n",
       "    if(typeof define === \"function\" && define.amd) {\n",
       "      requirejs.config({paths});\n",
       "      require([\"vega-embed\"], displayChart, err => showError(`Error loading script: ${err.message}`));\n",
       "    } else if (typeof vegaEmbed === \"function\") {\n",
       "      displayChart(vegaEmbed);\n",
       "    } else {\n",
       "      loadScript(\"vega\")\n",
       "        .then(() => loadScript(\"vega-lite\"))\n",
       "        .then(() => loadScript(\"vega-embed\"))\n",
       "        .catch(showError)\n",
       "        .then(() => displayChart(vegaEmbed));\n",
       "    }\n",
       "  })({\"config\": {\"view\": {\"continuousWidth\": 400, \"continuousHeight\": 300, \"strokeWidth\": 0}, \"axis\": {\"grid\": false, \"labelAngle\": 0, \"labelFontSize\": 12, \"titleFontSize\": 12}, \"title\": {\"fontSize\": 14}}, \"data\": {\"name\": \"data-9dd0fe20390cf8ff6c3dbd82d7eb4a23\"}, \"mark\": {\"type\": \"bar\", \"size\": 60}, \"encoding\": {\"x\": {\"type\": \"ordinal\", \"axis\": {\"title\": \"Year of Publication\"}, \"field\": \"Year\"}, \"y\": {\"type\": \"quantitative\", \"axis\": {\"title\": \"Average Lexical Diversity\"}, \"field\": \"Average Lexical Diversity\"}}, \"title\": \"Average Yearly Lexical Diversity of Gibbon First Editions\", \"width\": 365, \"$schema\": \"https://vega.github.io/schema/vega-lite/v4.8.1.json\", \"datasets\": {\"data-9dd0fe20390cf8ff6c3dbd82d7eb4a23\": [{\"Year\": 1928, \"Average Lexical Diversity\": 0.23601900972590628}, {\"Year\": 1930, \"Average Lexical Diversity\": 0.13157772585910785}, {\"Year\": 1931, \"Average Lexical Diversity\": 0.1292755998169271}, {\"Year\": 1932, \"Average Lexical Diversity\": 0.1069772992539837}, {\"Year\": 1933, \"Average Lexical Diversity\": 0.09077813517219867}, {\"Year\": 1934, \"Average Lexical Diversity\": 0.11185025739806571}]}}, {\"mode\": \"vega-lite\"});\n",
       "</script>"
      ],
      "text/plain": [
       "alt.Chart(...)"
      ]
     },
     "execution_count": 40,
     "metadata": {},
     "output_type": "execute_result"
    }
   ],
   "source": [
    "\n",
    "\n",
    "source = pd.DataFrame({\n",
    "    'Year': pub_years,\n",
    "    'Average Lexical Diversity': lexdiv_by_year\n",
    "})\n",
    "\n",
    "alt.Chart(source, title=\"Average Yearly Lexical Diversity of Gibbon First Editions\").mark_bar(size=60).encode(\n",
    "    alt.X('Year', axis=alt.Axis(title='Year of Publication'), type='ordinal'),\n",
    "    alt.Y('Average Lexical Diversity', axis=alt.Axis(title='Average Lexical Diversity'))\n",
    ").configure_axis(\n",
    "    grid=False,\n",
    "    labelFontSize=12,\n",
    "    titleFontSize=12,\n",
    "    labelAngle=0\n",
    ").configure_title(\n",
    "    fontSize=14,\n",
    ").configure_view(\n",
    "    strokeWidth=0\n",
    ").properties(\n",
    "    width=365\n",
    ")"
   ]
  },
  {
   "cell_type": "markdown",
   "id": "chinese-mining",
   "metadata": {},
   "source": [
    "So Gibbon's lexical diversity does decrease over time, excepting a small increase in the last year he published, 1934!"
   ]
  }
 ],
 "metadata": {
  "kernelspec": {
   "display_name": "Python 3",
   "language": "python",
   "name": "python3"
  },
  "language_info": {
   "codemirror_mode": {
    "name": "ipython",
    "version": 3
   },
   "file_extension": ".py",
   "mimetype": "text/x-python",
   "name": "python",
   "nbconvert_exporter": "python",
   "pygments_lexer": "ipython3",
   "version": "3.8.8"
  }
 },
 "nbformat": 4,
 "nbformat_minor": 5
}
