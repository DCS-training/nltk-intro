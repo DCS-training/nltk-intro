{
 "cells": [
  {
   "cell_type": "markdown",
   "id": "alpha-petite",
   "metadata": {},
   "source": [
    "# Cleaning Messy Text: RegEx and NLTK\n",
    "\n",
    "## Text Analysis with NLTK\n",
    "\n",
    "### [Centre for Data, Culture & Society](http://cdcs.ed.ac.uk)\n",
    "\n",
    "Course Instructor: Lucy Havens\n",
    "\n",
    "Course Dates: March-April 2022\n",
    "\n",
    "****"
   ]
  },
  {
   "cell_type": "markdown",
   "id": "instant-latex",
   "metadata": {},
   "source": [
    "### Regular Expresssions (RegEx)\n",
    "\n",
    "* **WAT? Pattern matching strings in Python**\n",
    "* **WHY? To find specific words or phrases, or variations of a particular word or phrase**\n",
    "    * Once found, they can be replaced, so this is useful for cleaning text with digitization errors.  Optical Character Recognition (OCR) and Handwriting Recognition (HWT or HRT) technologies are imperfect, so you will find errors in digitized text corpora (unless of course they've been manually reviewed and corrected).\n",
    "* **HOW? Combinations of special characters with a RegEx compiler**\n",
    "    * In programming, a *compiler* translates code from one programming language to another.  In a sense, RegEx is a language that can sit on top of Python.  RegEx works with Python data types and syntax but it also has its own special characters and methods that plain Python doesn't use.\n",
    "    \n",
    "My favorite resource for practice with and testing Regular Expressions is [Pythex.org](https://pythex.org) and the cheat sheet it provides!"
   ]
  },
  {
   "cell_type": "code",
   "execution_count": 1,
   "id": "complex-questionnaire",
   "metadata": {},
   "outputs": [
    {
     "name": "stderr",
     "output_type": "stream",
     "text": [
      "[nltk_data] Downloading package punkt to /home/jovyan/nltk_data...\n",
      "[nltk_data]   Package punkt is already up-to-date!\n",
      "[nltk_data] Downloading package wordnet to /home/jovyan/nltk_data...\n",
      "[nltk_data]   Package wordnet is already up-to-date!\n",
      "[nltk_data] Downloading package stopwords to /home/jovyan/nltk_data...\n",
      "[nltk_data]   Package stopwords is already up-to-date!\n"
     ]
    }
   ],
   "source": [
    "# To use Regular Expressions (RegEx)\n",
    "import re\n",
    "\n",
    "# To perform text analysis\n",
    "import nltk\n",
    "from nltk.tokenize import word_tokenize, sent_tokenize\n",
    "nltk.download('punkt')\n",
    "from nltk.corpus import PlaintextCorpusReader\n",
    "nltk.download('wordnet')\n",
    "from nltk.corpus import wordnet\n",
    "nltk.download('stopwords')\n",
    "from nltk.corpus import stopwords\n",
    "from nltk.text import Text"
   ]
  },
  {
   "cell_type": "markdown",
   "id": "unable-deficit",
   "metadata": {},
   "source": [
    "On Wednesday we noticed digitization errors with the odd placement of the character `â` in the text.  Let's load that corpus and see if we can clean up some of those errors!"
   ]
  },
  {
   "cell_type": "code",
   "execution_count": 2,
   "id": "endangered-madrid",
   "metadata": {},
   "outputs": [
    {
     "name": "stdout",
     "output_type": "stream",
     "text": [
      "['R', ',', '17U', '\\\\(', 'o', 'First', 'journey', 'National', 'Library', 'of', 'Scotland', 'â', '\\x80\\x98', 'B000054136', '*', 'TIMBUCTOO', 'NIGER', 'BY', 'THE', 'SAME']\n"
     ]
    }
   ],
   "source": [
    "data_directory = \"nls-text-gibbon\"\n",
    "wordlists = PlaintextCorpusReader(data_directory, \"\\d.*\", encoding=\"latin1\")\n",
    "corpus_tokens = wordlists.words()  # .words() is a method for tokenization\n",
    "print(corpus_tokens[:20])"
   ]
  },
  {
   "cell_type": "markdown",
   "id": "portable-oxide",
   "metadata": {},
   "source": [
    "Notice two quite obvious digitization errors: `â` and `\\x80\\x98`.  Let's look at where these occur throughout our corpus:"
   ]
  },
  {
   "cell_type": "code",
   "execution_count": 17,
   "id": "opened-element",
   "metadata": {},
   "outputs": [
    {
     "name": "stdout",
     "output_type": "stream",
     "text": [
      "['R', ',', '17U', '\\\\(', 'o', 'First', 'journey', 'National', 'Library', 'of', 'Scotland', 'â', '\\x80\\x98', 'B000054136', '*', 'TIMBUCTOO', 'NIGER', 'BY', 'THE', 'SAME', 'AUTHOR', 'Novels', 'forming', 'the', 'trilogy', ',', 'A', 'Scots', 'Quair', 'Part', 'I', '.', 'Sunset', 'Song', '(', '1932', ')', 'Part', 'II', '.', 'Cloud', 'Howe', '(', '1933', ')', 'Part', 'III', '.', 'Grey', 'Granite', '(', '1934', ')', 'MUNCiO', 'PARK', 'NIGER', 'THE', 'LIFE', 'OF', 'MUNGO', 'PARK', 'BY', 'LEWIS', 'GRASSIC', 'GIBBON', 'EDINBURGH', 'THE', 'PORPOISE', 'PRESS', 'FIRST', 'PUBLISHED', 'IN', '1034', 'BY', 'THE', 'PORPOISE', 'PRESS', 'I33A', 'GEORGE', 'STREET', ',', 'EDINBURGH', 'LONDON', '*.', 'FABER', 'AND', 'FABER', 'LIMITED', '24', 'RUSSELL', 'SQUARE', ',', 'W', '.', 'G', '.', 'I', 'PRINTED', 'IN', 'SCOTLAND']\n"
     ]
    }
   ],
   "source": [
    "lgg = nltk.Text(corpus_tokens)\n",
    "print(lgg[:100])"
   ]
  },
  {
   "cell_type": "code",
   "execution_count": 13,
   "id": "shared-defensive",
   "metadata": {},
   "outputs": [
    {
     "name": "stdout",
     "output_type": "stream",
     "text": [
      "Displaying 25 of 4920 matches:\n",
      "ourney National Library of Scotland â  B000054136 * TIMBUCTOO NIGER BY THE S\n",
      "h biography . A much better book is â  H . B . â  s â  Life of Mungo Par\n",
      " the room , and Mungo himÂ ¬ self . â  Youâ  re destroying the book , â \n",
      "ight of all his bio - 14 graphers , â  Ay , you , or somebody else , will on\n",
      "racÂ ¬ teristic , it was national : â  You poor useless thing , do you think\n",
      "surrounding hills , he went often , â  to read poetry â . This was mostly \n",
      "upon the record the affirÂ ¬ mation â  Some sparks of latent spirit which oc\n",
      " ¬ ously qualified by ( yet again ) â  the gravity and steady decorum of his\n",
      "o study medicine . ! 9 3His gravity â  not altogether thrown awayâ , he wa\n",
      "thematics , in both of which he was â  very apt . For the rest he no doubt p\n",
      "e a letter to Anderson in Selkirk : â  I have now got upon the first step of\n",
      " just before the Worcester sailed : â  I wish you may be able to look upon t\n",
      "e Great River , crocodile - laden , â  dividing Africa as the Danube does Eu\n",
      ", are no more than Chestertonâ  s â  small , dark , cloud , where the tort\n",
      "n , having come into collision with â  revolting Arabs 5 ( he referred to th\n",
      "s since his return from Bencoolen . â  I had a passionate desire to examine \n",
      "in authority . Jillifree lay in the â  kingdom â  of Barra , and the Emir \n",
      "trate of Jillifreeâ  el caid , or â  the Alkaid â  as Mungo somewhat stu\n",
      " ¬ tracted from the kernel of a nut â  and an admirable substitute for butte\n",
      "ses for the use of the two blacks . â  Thus I had no less than six attendant\n",
      "while , in Mungoâ  s phrase , the â  beef was preparing â , Jemaffoo and\n",
      "e at the lion through the rafters . â  This proposition was approved and ado\n",
      "mall caravan . They were now in the â  kingdom â  of Walli and these were \n",
      "d in considerable puzzlement upon a â  sort of masquerade habit â  made fr\n",
      "fled from the village . Even so , a â  body of these harpies â  followed h\n"
     ]
    }
   ],
   "source": [
    "lgg.concordance(\"\\x80\\x98\")"
   ]
  },
  {
   "cell_type": "code",
   "execution_count": 15,
   "id": "tamil-blackberry",
   "metadata": {},
   "outputs": [
    {
     "name": "stdout",
     "output_type": "stream",
     "text": [
      "Displaying 25 of 20332 matches:\n",
      "t journey National Library of Scotland â  B000054136 * TIMBUCTOO NIGER BY THE\n",
      "ngth biography . A much better book is â  H . B . â  s â  Life of Mungo P\n",
      "y . A much better book is â  H . B . â  s â  Life of Mungo Park ( 1835 ),\n",
      "uch better book is â  H . B . â  s â  Life of Mungo Park ( 1835 ), sincer\n",
      " a i woman of great prudence and sense â , â  else indeed she would not hav\n",
      "oman of great prudence and sense â , â  else indeed she would not have surv\n",
      " in the room , and Mungo himÂ ¬ self . â  Youâ  re destroying the book , â \n",
      " â  Youâ  re destroying the book , â  Mungo proÂ ¬ tested . The servant t\n",
      " 4 Theyâ  re only old Flavelâ  s . â  To which the dark - faced boy retor\n",
      "delight of all his bio - 14 graphers , â  Ay , you , or somebody else , will \n",
      "characÂ ¬ teristic , it was national : â  You poor useless thing , do you thi\n",
      "think that you will ever write books ? â  Mungoâ  s retort is not recorded \n",
      "he surrounding hills , he went often , â  to read poetry â . This was mostl\n",
      " , he went often , â  to read poetry â . This was mostly collections of son\n",
      "ms upon the record the affirÂ ¬ mation â  Some sparks of latent spirit which \n",
      "e part of his noisy school - fellows . â  But rather , one can hear their how\n",
      "viÂ ¬ ously qualified by ( yet again ) â  the gravity and steady decorum of h\n",
      "avity and steady decorum of his manner â . And , just as it was the ambition \n",
      "d to study medicine . ! 9 3His gravity â  not altogether thrown awayâ , he \n",
      " mathematics , in both of which he was â  very apt . For the rest he no doubt\n",
      "rote a letter to Anderson in Selkirk : â  I have now got upon the first step \n",
      "the author and finisher of his faith . â  Perhaps teasing Ailie would read th\n",
      "n , just before the Worcester sailed : â  I wish you may be able to look upon\n",
      "han see you anything but a Christian . â  It is almost the most appalling exa\n",
      " the Great River , crocodile - laden , â  dividing Africa as the Danube does \n"
     ]
    }
   ],
   "source": [
    "lgg.concordance(\"â\")"
   ]
  },
  {
   "cell_type": "code",
   "execution_count": 18,
   "id": "ranging-significance",
   "metadata": {},
   "outputs": [
    {
     "name": "stdout",
     "output_type": "stream",
     "text": [
      "Displaying 25 of 20332 matches:\n",
      "t journey National Library of Scotland â  B000054136 * TIMBUCTOO NIGER BY THE\n",
      "ngth biography . A much better book is â  H . B . â  s â  Life of Mungo P\n",
      "y . A much better book is â  H . B . â  s â  Life of Mungo Park ( 1835 ),\n",
      "uch better book is â  H . B . â  s â  Life of Mungo Park ( 1835 ), sincer\n",
      " a i woman of great prudence and sense â , â  else indeed she would not hav\n",
      "oman of great prudence and sense â , â  else indeed she would not have surv\n",
      " in the room , and Mungo himÂ ¬ self . â  Youâ  re destroying the book , â \n",
      " â  Youâ  re destroying the book , â  Mungo proÂ ¬ tested . The servant t\n",
      " 4 Theyâ  re only old Flavelâ  s . â  To which the dark - faced boy retor\n",
      "delight of all his bio - 14 graphers , â  Ay , you , or somebody else , will \n",
      "characÂ ¬ teristic , it was national : â  You poor useless thing , do you thi\n",
      "think that you will ever write books ? â  Mungoâ  s retort is not recorded \n",
      "he surrounding hills , he went often , â  to read poetry â . This was mostl\n",
      " , he went often , â  to read poetry â . This was mostly collections of son\n",
      "ms upon the record the affirÂ ¬ mation â  Some sparks of latent spirit which \n",
      "e part of his noisy school - fellows . â  But rather , one can hear their how\n",
      "viÂ ¬ ously qualified by ( yet again ) â  the gravity and steady decorum of h\n",
      "avity and steady decorum of his manner â . And , just as it was the ambition \n",
      "d to study medicine . ! 9 3His gravity â  not altogether thrown awayâ , he \n",
      " mathematics , in both of which he was â  very apt . For the rest he no doubt\n",
      "rote a letter to Anderson in Selkirk : â  I have now got upon the first step \n",
      "the author and finisher of his faith . â  Perhaps teasing Ailie would read th\n",
      "n , just before the Worcester sailed : â  I wish you may be able to look upon\n",
      "han see you anything but a Christian . â  It is almost the most appalling exa\n",
      " the Great River , crocodile - laden , â  dividing Africa as the Danube does \n"
     ]
    }
   ],
   "source": [
    "lgg.concordance(\"Â\")"
   ]
  },
  {
   "cell_type": "code",
   "execution_count": 19,
   "id": "fundamental-pillow",
   "metadata": {},
   "outputs": [
    {
     "name": "stdout",
     "output_type": "stream",
     "text": [
      "Displaying 25 of 4700 matches:\n",
      "n in mind and disregarding it as unimÂ ¬ portant . I followed the latter course\n",
      "f Africa in 1805 , by Mungo Park ; toÂ ¬ gether with other documents , official\n",
      "riodâ  even if economic fact had deÂ ¬ signed a more enduring costume . The p\n",
      "on for educationâ  that passion comÂ ¬ pounded of a belief that education mea\n",
      "an argument . It had , and has , someÂ ¬ thing of the same quality , this Scots\n",
      "â  s biographers make of her a handÂ ¬ some personage , as they do of her con\n",
      "which produced their family . They reÂ ¬ garded each other , no doubt , with th\n",
      " was quiet , restrained , grave of deÂ ¬ meanour , proper and shyâ  a fit sub\n",
      "alysts as yet inapparent upon that unÂ ¬ happy era . No child should be any of \n",
      "abbath , of the hearty eating of tireÂ ¬ some food , of conventionality of expr\n",
      " of outward demeanour to hide the burÂ ¬ geon of his soul beneath . He was a ha\n",
      "handsome boy , as later a man , brownÂ ¬ haired , tall for his age , with finel\n",
      " of childhood and adolescence by modiÂ ¬ fying the well - known portrait and ga\n",
      "other was in the room , and Mungo himÂ ¬ self . â  Youâ  re destroying the \n",
      " destroying the book , â  Mungo proÂ ¬ tested . The servant tossed her head :\n",
      "erâ  s comment was more than characÂ ¬ teristic , it was national : â  You \n",
      "tion of the farmyard down to the drumÂ ¬ ming Yarrow banks , still happily unsu\n",
      "banks , still happily unsung by WordsÂ ¬ worth . There , and to the surrounding\n",
      "y were those oddly constipated pseudoÂ ¬ religious tracts beloved of his time .\n",
      " and smarms upon the record the affirÂ ¬ mation â  Some sparks of latent spir\n",
      "me sparks of latent spirit which occaÂ ¬ sionally flashed forth protected him f\n",
      "ing in some playground corner a brownÂ ¬ faced silent boy . His schoolmaster in\n",
      " that he was exceedingly fond of readÂ ¬ ing and 4 always the head of his class\n",
      "s schoolmates and the fatuous expectaÂ ¬ tions of Fowlshiels . But at last in h\n",
      "the Kirk of Scotland . He was so obviÂ ¬ ously qualified by ( yet again ) â  \n"
     ]
    }
   ],
   "source": [
    "lgg.concordance(\"¬\")"
   ]
  },
  {
   "cell_type": "markdown",
   "id": "facial-snowboard",
   "metadata": {},
   "source": [
    "To remove a substring (a selection of characters in a string), we can use an empty string (either `\"\"` or `''`) as the second input for the `replace()` method.  Just remember to set the Text object followed by this method to a variable, otherwise your changes won't be saved!"
   ]
  },
  {
   "cell_type": "code",
   "execution_count": 26,
   "id": "demographic-allen",
   "metadata": {},
   "outputs": [],
   "source": [
    "# .replace() must be used on a string object, not a Text object\n",
    "lgg_str = wordlists.raw()\n",
    "lgg_str = lgg_str.replace(\"Â ¬\",\"\")"
   ]
  },
  {
   "cell_type": "code",
   "execution_count": 28,
   "id": "humanitarian-throw",
   "metadata": {},
   "outputs": [
    {
     "name": "stdout",
     "output_type": "stream",
     "text": [
      "no matches\n"
     ]
    }
   ],
   "source": [
    "# .concordance() must be used on a Text object, not a string object\n",
    "corpus_tokens = word_tokenize(lgg_str)\n",
    "lgg = nltk.Text(corpus_tokens)\n",
    "lgg.concordance(\"¬\")"
   ]
  },
  {
   "cell_type": "markdown",
   "id": "minimal-primary",
   "metadata": {},
   "source": [
    "It worked!\n",
    "\n",
    "Let's try using RegEx to clean the text now:"
   ]
  },
  {
   "cell_type": "code",
   "execution_count": 19,
   "id": "developed-athens",
   "metadata": {},
   "outputs": [],
   "source": [
    "sequence = \"[a-zA-Z]+â\"\n",
    "re_pattern = re.compile(sequence)"
   ]
  },
  {
   "cell_type": "code",
   "execution_count": 20,
   "id": "coastal-frame",
   "metadata": {},
   "outputs": [],
   "source": [
    "digit_errors = re_pattern.findall(lgg_str)"
   ]
  },
  {
   "cell_type": "code",
   "execution_count": 21,
   "id": "accepting-avenue",
   "metadata": {},
   "outputs": [
    {
     "data": {
      "text/plain": [
       "22700"
      ]
     },
     "execution_count": 21,
     "metadata": {},
     "output_type": "execute_result"
    }
   ],
   "source": [
    "len(digit_errors)"
   ]
  },
  {
   "cell_type": "code",
   "execution_count": 24,
   "id": "dramatic-sheriff",
   "metadata": {},
   "outputs": [
    {
     "data": {
      "text/plain": [
       "4578"
      ]
     },
     "execution_count": 24,
     "metadata": {},
     "output_type": "execute_result"
    }
   ],
   "source": [
    "unique_errors = list(set(digit_errors))\n",
    "len(unique_errors)"
   ]
  },
  {
   "cell_type": "code",
   "execution_count": 25,
   "id": "rural-airplane",
   "metadata": {},
   "outputs": [
    {
     "name": "stdout",
     "output_type": "stream",
     "text": [
      "['bonesâ', 'capeâ', 'dearsâ', 'starvationâ', 'displeasedâ', 'calculationâ', 'Venetianâ', 'middleâ', 'sonâ', 'Cleghornâ', 'Nahâ', 'feetâ', 'palmsâ', 'mosquitoesâ', 'trayâ', 'Janissaryâ', 'singerâ', 'Behaimâ', 'bushâ', 'chairâ', 'townsâ', 'Betzâ', 'hillSâ', 'risingâ', 'anarchistâ', 'reposeâ', 'fightingâ', 'suicideâ', 'Natashaâ', 'filthâ', 'Whoâ', 'trackâ', 'preachedâ', 'unlessâ', 'lovelinessâ', 'Gambiaâ', 'Ledyardâ', 'Schroterâ', 'roomâ', 'moonlightâ', 'differentâ', 'Caâ', 'substancesâ', 'Bootyâ', 'sunlightâ', 'stupidityâ', 'futureâ', 'fightâ', 'cropâ', 'fellâ', 'Chilternsâ', 'fertileâ', 'Consulateâ', 'milesâ', 'shepherdâ', 'writerâ', 'expeditionsâ', 'liberalityâ', 'senseâ', 'Sempleâ', 'bandâ', 'amâ', 'Salomeâ', 'Realâ', 'enemyâ', 'attitudeâ', 'regretâ', 'Homelyâ', 'Hereâ', 'tourâ', 'belowâ', 'kindâ', 'Craigneuksâ', 'Bokharaâ', 'Seasâ', 'manyâ', 'friezeâ', 'riversâ', 'fingersâ', 'crewsâ', 'makerâ', 'hallâ', 'Yearâ', 'sixtyâ', 'landscapeâ', 'Registrarâ', 'Christâ', 'buildingâ', 'truthfullyâ', 'goldâ', 'Janeâ', 'whistlingâ', 'mullahsâ', 'Avallaireâ', 'majorâ', 'handsâ', 'beardâ', 'accoladeâ', 'Plinyâ', 'lustsâ']\n"
     ]
    }
   ],
   "source": [
    "print(unique_errors[:100])"
   ]
  },
  {
   "cell_type": "markdown",
   "id": "empty-closing",
   "metadata": {},
   "source": [
    "Since the `â` character keeps appearing at the end of tokens, let's use `strip()` to remove them for practice with that method!"
   ]
  },
  {
   "cell_type": "code",
   "execution_count": 26,
   "id": "collaborative-christmas",
   "metadata": {},
   "outputs": [
    {
     "name": "stdout",
     "output_type": "stream",
     "text": [
      "['R', ',', '17U', '\\\\', '(', 'o', 'First', 'journey', 'National', 'Library']\n"
     ]
    }
   ],
   "source": [
    "tokens_list = list(corpus_tokens)\n",
    "print(tokens_list[:10])"
   ]
  },
  {
   "cell_type": "code",
   "execution_count": 29,
   "id": "straight-ebony",
   "metadata": {
    "scrolled": false
   },
   "outputs": [
    {
     "name": "stdout",
     "output_type": "stream",
     "text": [
      "['R', ',', '17U', '\\\\', '(', 'o', 'First', 'journey', 'National', 'Library', 'of', 'Scotland', '\\x80\\x98B000054136', '*', 'TIMBUCTOO', 'NIGER', 'BY', 'THE', 'SAME', 'AUTHOR', 'Novels', 'forming', 'the', 'trilogy', ',', 'A', 'Scots', 'Quair', 'Part', 'I.', 'Sunset', 'Song', '(', '1932', ')', 'Part', 'II', '.', 'Cloud', 'Howe', '(', '1933', ')', 'Part', 'III', '.', 'Grey', 'Granite', '(', '1934', ')', 'MUNCiO', 'PARK', 'NIGER', 'THE', 'LIFE', 'OF', 'MUNGO', 'PARK', 'BY', 'LEWIS', 'GRASSIC', 'GIBBON', 'EDINBURGH', 'THE', 'PORPOISE', 'PRESS', 'FIRST', 'PUBLISHED', 'IN', '1034', 'BY', 'THE', 'PORPOISE', 'PRESS', 'I33A', 'GEORGE', 'STREET', ',', 'EDINBURGH', 'LONDON', '*', '.', 'FABER', 'AND', 'FABER', 'LIMITED', '24', 'RUSSELL', 'SQUARE', ',', 'W.G', '.', 'I', 'PRINTED', 'IN', 'SCOTLAND', 'BY', 'ROBERT', 'MACLEHOSE']\n"
     ]
    }
   ],
   "source": [
    "subcorpus = tokens_list[:1000]\n",
    "clean_subcorpus = []\n",
    "for t in subcorpus:\n",
    "    new_t = t.strip('â')\n",
    "    clean_subcorpus += [new_t]\n",
    "print(clean_subcorpus[:100])"
   ]
  },
  {
   "cell_type": "markdown",
   "id": "functional-equation",
   "metadata": {},
   "source": [
    "Ta da!"
   ]
  }
 ],
 "metadata": {
  "kernelspec": {
   "display_name": "Python 3",
   "language": "python",
   "name": "python3"
  },
  "language_info": {
   "codemirror_mode": {
    "name": "ipython",
    "version": 3
   },
   "file_extension": ".py",
   "mimetype": "text/x-python",
   "name": "python",
   "nbconvert_exporter": "python",
   "pygments_lexer": "ipython3",
   "version": "3.8.8"
  }
 },
 "nbformat": 4,
 "nbformat_minor": 5
}
