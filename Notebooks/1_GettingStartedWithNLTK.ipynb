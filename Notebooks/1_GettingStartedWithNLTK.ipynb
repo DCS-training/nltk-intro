{
 "cells": [
  {
   "cell_type": "markdown",
   "metadata": {},
   "source": [
    "# Introduction to the Natural Language Toolkit (NLTK)\n",
    "\n",
    "## Text Analysis with NLTK\n",
    "\n",
    "### [Centre for Data, Culture & Society](http://cdcs.ed.ac.uk)\n",
    "\n",
    "Course Instructor: Xandra Dave Cochran\n",
    "\n",
    "Course Dates: February 2024\n",
    "\n",
    "****"
   ]
  },
  {
   "cell_type": "markdown",
   "metadata": {},
   "source": [
    "### Python Refresher\n",
    "\n",
    "Can you name some of Python's **data types**?\n",
    "\n",
    "There are two data types that are particularly important to understand when doing text analysis: **string** and **list**.  \n",
    "\n",
    "**Strings** are sequences of characters (as in letters, numbers, spaces, or punctuation marks) that are contained within single quotes (`'I am a string'`) or double quotes (`\"I'm a string too!\"`).\n",
    "\n",
    "**Lists** are collections of data of any type (str, int, float, dict, list, tuple, set) that are contained within square brackets (`[ ]`).  Lists can have zero or more elements, and a single list can contain elements of different data types (for example: `['hi', 123, \"bonjour !\", [], {\"A\":1, \"B\":2}, (1.5, 2.8)]`).  The elements inside lists are *ordered*, which allows us to reference them by their *index* (position - numeric, starts from 0)."
   ]
  },
  {
   "cell_type": "code",
   "execution_count": 1,
   "metadata": {},
   "outputs": [
    {
     "name": "stdout",
     "output_type": "stream",
     "text": [
      "Hello world\n"
     ]
    }
   ],
   "source": [
    "print(\"Hello world\")   # print() is a FUNCTION, \"Hello world\" is a STRING (str)"
   ]
  },
  {
   "cell_type": "code",
   "execution_count": 2,
   "metadata": {},
   "outputs": [],
   "source": [
    "greeting = \"Hello world\"  # we've assigned the string to a VARIABLE"
   ]
  },
  {
   "cell_type": "code",
   "execution_count": 3,
   "metadata": {},
   "outputs": [
    {
     "name": "stdout",
     "output_type": "stream",
     "text": [
      "Hello world\n"
     ]
    },
    {
     "data": {
      "text/plain": [
       "'Hello world'"
      ]
     },
     "execution_count": 3,
     "metadata": {},
     "output_type": "execute_result"
    }
   ],
   "source": [
    "# This is a comment.  Comments are for you and me, the computer knows to ignore them.\n",
    "# In this comment I'll explain that to return values, we can choose to use print() or \n",
    "# not, and the output will be slightly different, as you can see below.\n",
    "# If you want to show multiple values below a code cell like this one, you'll need all\n",
    "# of the values you want returned inside a print() function (except the last one, which\n",
    "# is optional), otherwise only the value in the last line of your cell will be shown\n",
    "print(greeting)\n",
    "greeting"
   ]
  },
  {
   "cell_type": "code",
   "execution_count": 4,
   "metadata": {},
   "outputs": [
    {
     "name": "stdout",
     "output_type": "stream",
     "text": [
      "<class 'list'>\n"
     ]
    }
   ],
   "source": [
    "greeting_list = [\"hello\", \"bonjour\", \"salaam\", \"hola\"]  # 1-dimensional list of strings\n",
    "print(type(greeting_list))                              # type() is another function"
   ]
  },
  {
   "cell_type": "markdown",
   "metadata": {},
   "source": [
    "We can use a **for** loop or a **while** loop to iterate through items in a collection, such as our `greeting_list`."
   ]
  },
  {
   "cell_type": "code",
   "execution_count": 5,
   "metadata": {},
   "outputs": [
    {
     "name": "stdout",
     "output_type": "stream",
     "text": [
      "Greeting at index 0: hello\n",
      "Greeting at index 1: bonjour\n",
      "Greeting at index 2: salaam\n",
      "Greeting at index 3: hola\n"
     ]
    }
   ],
   "source": [
    "i = 0\n",
    "for greeting in greeting_list:\n",
    "    print(\"Greeting at index \"+str(i)+\": \"+greeting)  # an example of CONCATENTATION \n",
    "    i += 1                                            # a shortcut for writing i = i + 1"
   ]
  },
  {
   "cell_type": "code",
   "execution_count": 6,
   "metadata": {},
   "outputs": [
    {
     "name": "stdout",
     "output_type": "stream",
     "text": [
      "hola\n",
      "salaam\n",
      "bonjour\n",
      "hello\n"
     ]
    }
   ],
   "source": [
    "i = -1\n",
    "while i > -5:\n",
    "    print(greeting_list[i])  # we can reference indeces backwards using negative numbers\n",
    "    i = i - 1                # we can't write i -= 1"
   ]
  },
  {
   "cell_type": "markdown",
   "metadata": {},
   "source": [
    "We can access subsets of a list using **slicing** with square brackets and colons, where the number before the colon is included in the slice but the number after the colon is not.  If a number is omitted before the colon, Python knows to go all the way to the starting element of the list.  If a number is omitted after the colon, Python knows to go all the way to the ending element of the list."
   ]
  },
  {
   "cell_type": "code",
   "execution_count": 7,
   "metadata": {},
   "outputs": [
    {
     "name": "stdout",
     "output_type": "stream",
     "text": [
      "['hello']\n",
      "['hello']\n",
      "['salaam', 'hola']\n",
      "['hello', 'bonjour', 'salaam', 'hola']\n",
      "['hello']\n",
      "['bonjour', 'salaam', 'hola']\n"
     ]
    }
   ],
   "source": [
    "print(greeting_list[0:1])\n",
    "print(greeting_list[:1])\n",
    "print(greeting_list[2:])\n",
    "print(greeting_list[:])\n",
    "print(greeting_list[:-3])\n",
    "print(greeting_list[-3:])"
   ]
  },
  {
   "cell_type": "markdown",
   "metadata": {},
   "source": [
    "***\n",
    "\n",
    "The demos below reference:\n",
    "\n",
    "Steven Bird, Ewan Klein, Edward Loper (2019) *Natural Language Processing with Python - Analyzing Text with the Natural Language Toolkit.*  3rd Edition.  https://www.nltk.org/book/"
   ]
  },
  {
   "cell_type": "markdown",
   "metadata": {},
   "source": [
    "### Demo 1\n",
    "Import the nltk library and download the texts it comes pre-loaded with (It will suggest saving it to your home directory - ):"
   ]
  },
  {
   "cell_type": "code",
   "execution_count": 8,
   "metadata": {
    "scrolled": false
   },
   "outputs": [],
   "source": [
    "import nltk\n",
    "# nltk.download()"
   ]
  },
  {
   "cell_type": "code",
   "execution_count": 9,
   "metadata": {},
   "outputs": [
    {
     "name": "stdout",
     "output_type": "stream",
     "text": [
      "*** Introductory Examples for the NLTK Book ***\n",
      "Loading text1, ..., text9 and sent1, ..., sent9\n",
      "Type the name of the text or sentence to view it.\n",
      "Type: 'texts()' or 'sents()' to list the materials.\n",
      "text1: Moby Dick by Herman Melville 1851\n",
      "text2: Sense and Sensibility by Jane Austen 1811\n",
      "text3: The Book of Genesis\n",
      "text4: Inaugural Address Corpus\n"
     ]
    },
    {
     "name": "stdout",
     "output_type": "stream",
     "text": [
      "text5: Chat Corpus\n",
      "text6: Monty Python and the Holy Grail\n",
      "text7: Wall Street Journal\n",
      "text8: Personals Corpus\n",
      "text9: The Man Who Was Thursday by G . K . Chesterton 1908\n"
     ]
    }
   ],
   "source": [
    "from nltk.book import *"
   ]
  },
  {
   "cell_type": "markdown",
   "metadata": {},
   "source": [
    "### Demo 2"
   ]
  },
  {
   "cell_type": "code",
   "execution_count": 10,
   "metadata": {},
   "outputs": [
    {
     "name": "stdout",
     "output_type": "stream",
     "text": [
      "Displaying 20 of 566 matches:\n",
      " had resolved never to be taught . Marianne ' s abilities were , in many respe\n",
      "had already imbibed a good deal of Marianne ' s romance , without having much \n",
      "hing . \" In a few months , my dear Marianne .\" said she , \" Elinor will , in a\n",
      "d ' s heart . But you look grave , Marianne ; do you disapprove your sister ' \n",
      "er ' s choice ?\" \" Perhaps ,\" said Marianne , \" I may consider it with some su\n",
      "er ? In one circumstance only , my Marianne , may your destiny be different fr\n",
      "What a pity it is , Elinor ,\" said Marianne , \" that Edward should have no tas\n",
      "eral direct him perfectly right .\" Marianne was afraid of offending , and said\n",
      "ard which produced it . \" I hope , Marianne ,\" continued Elinor , \" you do not\n",
      "you could never be civil to him .\" Marianne hardly knew what to say . She woul\n",
      "ld express yourself more warmly .\" Marianne was rejoiced to find her sister so\n",
      "least , almost so . What say you , Marianne ?\" \" I shall very soon think him h\n",
      "ed greater certainty of it to make Marianne ' s conviction of their attachment\n",
      "eeable to her . She knew that what Marianne and her mother conjectured one mom\n",
      "reatly esteem , that I like him .\" Marianne here burst forth with indignation \n",
      "er a great fortune or high rank .\" Marianne was astonished to find how much th\n",
      "Edward in so prosperous a state as Marianne had believed it . There was , at t\n",
      "ks , with a handsome pianoforte of Marianne ' s . Mrs . John Dashwood saw the \n",
      "ed . \" Dear , dear Norland !\" said Marianne , as she wandered alone before the\n",
      "ions , to form themselves a home . Marianne ' s pianoforte was unpacked and pr\n"
     ]
    }
   ],
   "source": [
    "text2.concordance(\"Marianne\", lines=20)  # default lines listed is 25"
   ]
  },
  {
   "cell_type": "code",
   "execution_count": 11,
   "metadata": {
    "scrolled": true
   },
   "outputs": [
    {
     "name": "stdout",
     "output_type": "stream",
     "text": [
      "Displaying 25 of 66 matches:\n",
      "ree , that sanguine expectation of happiness which is happiness itself . But in\n",
      " expectation of happiness which is happiness itself . But in sorrow she must be\n",
      "early in life to despair of such a happiness . Why should you be less fortunate\n",
      "bourhood . It was necessary to the happiness of both ; for however dissimilar i\n",
      "dent mind . This was the season of happiness to Marianne . Her heart was devote\n",
      "d on her present home . Elinor ' s happiness was not so great . Her heart was n\n",
      "tion it was agreed , that although happiness could only be enjoyed at Whitwell \n",
      "the only form of building in which happiness is attainable , and were I rich en\n",
      "g but a kind of prescience of what happiness I should experience from it , can \n",
      "declared at once his affection and happiness . \" Shall we see you tomorrow to d\n",
      "ile on HIM , and in her sister ' s happiness forgot for a time her own disappoi\n",
      "have wealth or grandeur to do with happiness ?\" \" Grandeur has but little ,\" sa\n",
      "d Marianne , \" money can only give happiness where there is nothing else to giv\n",
      "with the delight of such imaginary happiness . \" We are all unanimous in that w\n",
      " was always eager to promote their happiness as far as she could , soon left th\n",
      "eyond any thing , and his greatest happiness was in being with them . Yet , he \n",
      " leisure has not promoted your own happiness , that your sons will be brought u\n",
      "education or state . Know your own happiness . You want nothing but patience --\n",
      "will , it must ere long become her happiness to prevent your whole youth from b\n",
      " the name of the man on who all my happiness depends .\" \" It is strange ,\" repl\n",
      " Ferrars , it will be more for the happiness of both of you ,' I should resolve\n",
      " to inform her confidante , of her happiness whenever she received a letter fro\n",
      "r ever , and it would give me such happiness , yes , almost the greatest happin\n",
      "piness , yes , almost the greatest happiness I am capable of , to be able to ac\n",
      "gh with your usual anxiety for our happiness ,\" said Elinor , \" you have been o\n"
     ]
    }
   ],
   "source": [
    "text2.concordance (\"happiness\")"
   ]
  },
  {
   "cell_type": "markdown",
   "metadata": {},
   "source": [
    "`.similar(X)` will output words that appear in the text surrounded by similar words to `X`.  This means that the output is likely to include words that are the same part of speech as `X` and words that are synonyms of `X`.  For example, the words that occur in similar contexts to the noun `\"happiness\"` are also nouns:"
   ]
  },
  {
   "cell_type": "code",
   "execution_count": 12,
   "metadata": {
    "scrolled": true
   },
   "outputs": [
    {
     "name": "stdout",
     "output_type": "stream",
     "text": [
      "heart mind time behaviour kindness it attachment attention mother\n",
      "feelings fancy spirits joy and sister own interest son disappointment\n",
      "pleasure\n"
     ]
    }
   ],
   "source": [
    "text2.similar(\"happiness\")"
   ]
  },
  {
   "cell_type": "markdown",
   "metadata": {},
   "source": [
    "`.common_contexts(L, N)` will output words that appear immediately to the left and right of all input words in list `L`.  For example, `\"such\"` and `\"of\"` are found surrounding both `\"kindness\"` and `\"happiness\"` in text2, so they are included in the output of `.common_contexts([\"kindness\", \"happiness\"])`:"
   ]
  },
  {
   "cell_type": "code",
   "execution_count": 13,
   "metadata": {},
   "outputs": [
    {
     "name": "stdout",
     "output_type": "stream",
     "text": [
      "Displaying 30 of 42 matches:\n",
      " ; and by her husband with as much kindness as he could feel towards anybody b\n",
      "ent by such acts of assistance and kindness to them as you have described . Wh\n",
      "iddleton her acknowledgment of his kindness , and her acceptance of his propos\n",
      " they could not give offence . His kindness was not confined to words ; for wi\n",
      "past , as unfortunate . In showing kindness to his cousins therefore he had th\n",
      "y , and vulgar , the gratitude and kindness of Mrs . Dashwood would have been \n",
      "with more than politeness ; with a kindness which Sir John ' s account of him \n",
      " , to which every day gave greater kindness , made such an excuse unnecessary \n",
      " the first had regarded her with a kindness which ensured her a large share of\n",
      "tempt her mother to such imprudent kindness by mentioning the offer , and to t\n",
      "u will always consider me with the kindness which has made everything belongin\n",
      " himself , and did not return your kindness with any cordiality . But all this\n",
      "don , he must go . He valued their kindness beyond any thing , and his greates\n",
      "erly good sort of woman , of whose kindness to you I can have no doubt . And i\n",
      "al of joy , and many assurances of kindness and care ; nor was it a matter of \n",
      "reated them both with all possible kindness , was solicitous on every occasion\n",
      " able to express some sense of her kindness , by saying , \" Poor Elinor ! how \n",
      " did justice to Mrs . Jennings ' s kindness , though its effusions were often \n",
      "cares for ?\" \" Dear ma ' am , this kindness is quite unnecessary . Marianne , \n",
      "he cried ; \" she cannot feel . Her kindness is not sympathy ; her good - natur\n",
      "s they often were by the clamorous kindness of the others . It was a great com\n",
      "d how acceptable Mrs . Ferrars ' s kindness is .\" \" Certainly ,\" said Elinor ;\n",
      " ?-- I saw a vast deal more . Such kindness as fell to the share of nobody but\n",
      "hing ?\" Edward tried to return her kindness as it deserved , but before such w\n",
      " on THEIR ground , and sharing the kindness which they wanted to monopolize . \n",
      "Lucy ; for such a mark of uncommon kindness , vouchsafed on so short an acquai\n",
      "h such ingratitude , where so much kindness had been shewn , so much confidenc\n",
      "nor ' s heart thanked her for such kindness towards Edward , though she could \n",
      " encouragement from the particular kindness of Mrs . Jennings , left her own p\n",
      "the least among them , whose great kindness I shall always thankfully remember\n"
     ]
    }
   ],
   "source": [
    "text2.concordance(\"kindness\", lines=30)"
   ]
  },
  {
   "cell_type": "code",
   "execution_count": 14,
   "metadata": {},
   "outputs": [
    {
     "name": "stdout",
     "output_type": "stream",
     "text": [
      "Displaying 30 of 66 matches:\n",
      "ree , that sanguine expectation of happiness which is happiness itself . But in\n",
      " expectation of happiness which is happiness itself . But in sorrow she must be\n",
      "early in life to despair of such a happiness . Why should you be less fortunate\n",
      "bourhood . It was necessary to the happiness of both ; for however dissimilar i\n",
      "dent mind . This was the season of happiness to Marianne . Her heart was devote\n",
      "d on her present home . Elinor ' s happiness was not so great . Her heart was n\n",
      "tion it was agreed , that although happiness could only be enjoyed at Whitwell \n",
      "the only form of building in which happiness is attainable , and were I rich en\n",
      "g but a kind of prescience of what happiness I should experience from it , can \n",
      "declared at once his affection and happiness . \" Shall we see you tomorrow to d\n",
      "ile on HIM , and in her sister ' s happiness forgot for a time her own disappoi\n",
      "have wealth or grandeur to do with happiness ?\" \" Grandeur has but little ,\" sa\n",
      "d Marianne , \" money can only give happiness where there is nothing else to giv\n",
      "with the delight of such imaginary happiness . \" We are all unanimous in that w\n",
      " was always eager to promote their happiness as far as she could , soon left th\n",
      "eyond any thing , and his greatest happiness was in being with them . Yet , he \n",
      " leisure has not promoted your own happiness , that your sons will be brought u\n",
      "education or state . Know your own happiness . You want nothing but patience --\n",
      "will , it must ere long become her happiness to prevent your whole youth from b\n",
      " the name of the man on who all my happiness depends .\" \" It is strange ,\" repl\n",
      " Ferrars , it will be more for the happiness of both of you ,' I should resolve\n",
      " to inform her confidante , of her happiness whenever she received a letter fro\n",
      "r ever , and it would give me such happiness , yes , almost the greatest happin\n",
      "piness , yes , almost the greatest happiness I am capable of , to be able to ac\n",
      "gh with your usual anxiety for our happiness ,\" said Elinor , \" you have been o\n",
      "' s joy was almost a degree beyond happiness , so great was the perturbation of\n",
      "ght lessen her satisfaction in the happiness of Marianne . They were three days\n",
      " your sister I wish all imaginable happiness ; to Willoughby that he may endeav\n",
      " what , oh what , can do away such happiness as that ?\" \" Many , many circumsta\n",
      "n the bloom of youth , of hope and happiness , saw him , with amazement , remai\n"
     ]
    }
   ],
   "source": [
    "text2.concordance(\"happiness\", lines=30)"
   ]
  },
  {
   "cell_type": "code",
   "execution_count": 15,
   "metadata": {},
   "outputs": [
    {
     "name": "stdout",
     "output_type": "stream",
     "text": [
      "the_which the_of of_to his_and such_as\n"
     ]
    }
   ],
   "source": [
    "text2.common_contexts([\"kindness\", \"happiness\"], num=5)"
   ]
  },
  {
   "cell_type": "code",
   "execution_count": 16,
   "metadata": {},
   "outputs": [
    {
     "name": "stdout",
     "output_type": "stream",
     "text": [
      "the_which\n"
     ]
    }
   ],
   "source": [
    "text2.common_contexts([\"kindness\", \"happiness\"], num=1)"
   ]
  },
  {
   "cell_type": "code",
   "execution_count": 17,
   "metadata": {},
   "outputs": [
    {
     "name": "stdout",
     "output_type": "stream",
     "text": [
      "the_which the_of of_to his_and such_as her_as her_and\n"
     ]
    }
   ],
   "source": [
    "text2.common_contexts([\"kindness\", \"happiness\"])  # defaults to 20 maximum"
   ]
  },
  {
   "cell_type": "markdown",
   "metadata": {},
   "source": [
    "If no result is found, NLTK will output a message that tells you this:"
   ]
  },
  {
   "cell_type": "code",
   "execution_count": 18,
   "metadata": {},
   "outputs": [
    {
     "name": "stdout",
     "output_type": "stream",
     "text": [
      "('The following word(s) were not found:', 'monstrous very')\n"
     ]
    }
   ],
   "source": [
    "text4.common_contexts([\"monstrous\", \"very\"])"
   ]
  },
  {
   "cell_type": "markdown",
   "metadata": {},
   "source": [
    "To see the frequency of a list of words (of any length) as they occur from the beginning through the end of the text, you can use a Lexical Dispersion Plot:"
   ]
  },
  {
   "cell_type": "code",
   "execution_count": 19,
   "metadata": {},
   "outputs": [
    {
     "data": {
      "image/png": "[encoded data removed]",
      "text/plain": [
       "<Figure size 640x480 with 1 Axes>"
      ]
     },
     "metadata": {},
     "output_type": "display_data"
    }
   ],
   "source": [
    "text2.dispersion_plot([\"happiness\", \"fortune\", \"anxiety\"])"
   ]
  },
  {
   "cell_type": "markdown",
   "metadata": {},
   "source": [
    "### Demo 3"
   ]
  },
  {
   "cell_type": "code",
   "execution_count": 20,
   "metadata": {},
   "outputs": [
    {
     "name": "stdout",
     "output_type": "stream",
     "text": [
      "Length of Moby Dick: 260819\n",
      "Length of Sense and Sensibility: 141576\n"
     ]
    }
   ],
   "source": [
    "md = len(text1)\n",
    "ss = len(text2)\n",
    "print(\"Length of Moby Dick:\", md)\n",
    "print(\"Length of Sense and Sensibility:\", ss)"
   ]
  },
  {
   "cell_type": "code",
   "execution_count": 21,
   "metadata": {},
   "outputs": [
    {
     "name": "stdout",
     "output_type": "stream",
     "text": [
      "Length of vocabulary (unique words) of Moby Dick: 19317\n",
      "Length of vocabulary (unique words) of Sense and Sensibility: 6833\n"
     ]
    }
   ],
   "source": [
    "md_vocab = len(set(text1))\n",
    "ss_vocab = len(set(text2))\n",
    "print(\"Length of vocabulary (unique words) of Moby Dick:\", md_vocab)\n",
    "print(\"Length of vocabulary (unique words) of Sense and Sensibility:\", ss_vocab)"
   ]
  },
  {
   "cell_type": "code",
   "execution_count": 22,
   "metadata": {},
   "outputs": [],
   "source": [
    "# Define a function to measure the diversity of word choice, \n",
    "# or lexical diversity:\n",
    "def lexicalDiversity(t):\n",
    "    return len(set(t))/len(t)"
   ]
  },
  {
   "cell_type": "code",
   "execution_count": 23,
   "metadata": {},
   "outputs": [
    {
     "name": "stdout",
     "output_type": "stream",
     "text": [
      "Lexical Diversity of Moby Dick: 0.07406285585022564\n",
      "Lexical Diversity of Sense and Sensibility: 0.04826383002768831\n"
     ]
    }
   ],
   "source": [
    "print(\"Lexical Diversity of Moby Dick:\", lexicalDiversity(text1))\n",
    "print(\"Lexical Diversity of Sense and Sensibility:\", lexicalDiversity(text2))"
   ]
  },
  {
   "cell_type": "markdown",
   "metadata": {},
   "source": [
    "# Diving into NLTK: The Basics\n",
    "\n",
    "## Text Analysis with NLTK\n",
    "\n",
    "### [Centre for Data, Culture & Society](http://cdcs.ed.ac.uk)\n",
    "\n",
    "Course Instructor: Lucy Havens\n",
    "\n",
    "Course Dates: March-April 2022\n",
    "\n",
    "****\n",
    "\n",
    "**Reference:**\n",
    "\n",
    "Steven Bird, Ewan Klein, Edward Loper (2019) *Natural Language Processing with Python - Analyzing Text with the Natural Language Toolkit.*  3rd Edition.  https://www.nltk.org/book/\n",
    "\n",
    "***"
   ]
  },
  {
   "cell_type": "markdown",
   "metadata": {},
   "source": [
    "NLTK, which stands for Natural Language Toolkit, is a popular coding library for text analysis with the programming language Python.  While Python alone has some basic capabilities for analyzing text, NLTK has much more to offer, as we will see!  This Jupyter Notebook will cover the following concepts:\n",
    "\n",
    "* [Tokenization](#tok)\n",
    "* [Frequency counts and distributions](#fre)\n",
    "* [Normalization](#nor)\n",
    "* [Stemming](#ste)\n",
    "* [Lemmatizing](#lem)\n",
    "* [Part-of-speech tagging](#pos)\n",
    "* [Collocations and n-grams](#col)\n",
    "\n",
    "These are the building blocks for more complicated text analysis tasks.  They are generally part of the first step of text analysis called **preprocessing**, which gets your text data formatted in a way that NLTK's methods and functions can easily interpret."
   ]
  },
  {
   "cell_type": "markdown",
   "metadata": {},
   "source": [
    "Before we can begin our text analysis, though, we should import the libraries we'll want to use to explore the capabilities of NLTK!"
   ]
  },
  {
   "cell_type": "code",
   "execution_count": 24,
   "metadata": {},
   "outputs": [
    {
     "name": "stderr",
     "output_type": "stream",
     "text": [
      "[nltk_data] Downloading package wordnet to /home/dave/nltk_data...\n",
      "[nltk_data]   Package wordnet is already up-to-date!\n",
      "[nltk_data] Downloading package stopwords to /home/dave/nltk_data...\n",
      "[nltk_data]   Package stopwords is already up-to-date!\n",
      "[nltk_data] Downloading package averaged_perceptron_tagger to\n",
      "[nltk_data]     /home/dave/nltk_data...\n",
      "[nltk_data]   Package averaged_perceptron_tagger is already up-to-\n",
      "[nltk_data]       date!\n",
      "[nltk_data] Downloading package tagsets to /home/dave/nltk_data...\n",
      "[nltk_data]   Package tagsets is already up-to-date!\n"
     ]
    }
   ],
   "source": [
    "import nltk\n",
    "from nltk.book import * # the `*` means import all corpora (you could also specify a specific corpus)\n",
    "\n",
    "# As an alternative to `nltk.download()`, as shown in last Notebook's class, you can specify what\n",
    "# packages from NLTK to download\n",
    "from nltk.tokenize import word_tokenize, sent_tokenize\n",
    "nltk.download('wordnet')\n",
    "from nltk.corpus import wordnet\n",
    "nltk.download('stopwords')\n",
    "from nltk.corpus import stopwords\n",
    "from nltk.text import Text\n",
    "from nltk.stem.porter import PorterStemmer\n",
    "from nltk.probability import FreqDist\n",
    "nltk.download('averaged_perceptron_tagger')\n",
    "from nltk.tag import pos_tag\n",
    "nltk.download('tagsets')  # part of speech tags\n",
    "from nltk.draw.dispersion import dispersion_plot as displt\n",
    "\n",
    "import matplotlib.pyplot as plt   # for drawing charts to visualize data\n",
    "\n",
    "import re               # the Regular Expression (or RegEx) library, which is useful in combination with NLTK\n",
    "import string           # another useful library for acccessing lists of all letters, all punctuation, etc."
   ]
  },
  {
   "cell_type": "markdown",
   "metadata": {},
   "source": [
    "Remember that the names on the left (`text1`, `text2`, ..., `text9`) are **variables** that point to the text corpora on the right (`Moby Dick...`, `Sense and Senibility...`, ..., `The Man Who Was Thursday...`).\n",
    "\n",
    "I wonder what happens if we try to print one of these?"
   ]
  },
  {
   "cell_type": "code",
   "execution_count": 25,
   "metadata": {},
   "outputs": [
    {
     "name": "stdout",
     "output_type": "stream",
     "text": [
      "<Text: Sense and Sensibility by Jane Austen 1811>\n"
     ]
    }
   ],
   "source": [
    "print(text2)"
   ]
  },
  {
   "cell_type": "markdown",
   "metadata": {},
   "source": [
    "Hmm.  That doesn't show us much.  What if we try slicing?"
   ]
  },
  {
   "cell_type": "code",
   "execution_count": 26,
   "metadata": {},
   "outputs": [
    {
     "name": "stdout",
     "output_type": "stream",
     "text": [
      "['[', 'Sense', 'and', 'Sensibility', 'by', 'Jane', 'Austen', '1811', ']', 'CHAPTER', '1', 'The', 'family', 'of', 'Dashwood', 'had', 'long', 'been', 'settled', 'in', 'Sussex', '.', 'Their', 'estate', 'was', 'large', ',', 'and', 'their', 'residence', 'was', 'at', 'Norland', 'Park', ',', 'in', 'the', 'centre', 'of', 'their', 'property', ',', 'where', ',', 'for', 'many', 'generations', ',', 'they', 'had', 'lived', 'in', 'so', 'respectable', 'a', 'manner', 'as', 'to', 'engage', 'the', 'general', 'good', 'opinion', 'of', 'their', 'surrounding', 'acquaintance', '.', 'The', 'late', 'owner', 'of', 'this', 'estate', 'was', 'a', 'single', 'man', ',', 'who', 'lived', 'to', 'a', 'very', 'advanced', 'age', ',', 'and', 'who', 'for', 'many', 'years', 'of', 'his', 'life', ',', 'had', 'a', 'constant', 'companion']\n"
     ]
    }
   ],
   "source": [
    "print(text2[0:100])"
   ]
  },
  {
   "cell_type": "markdown",
   "metadata": {},
   "source": [
    " <a id=\"tok\"></a>\n",
    "You can see that the text has been **tokenized**, or separated into its individual words, numbers, and punctuation marks."
   ]
  },
  {
   "cell_type": "code",
   "execution_count": 27,
   "metadata": {},
   "outputs": [
    {
     "data": {
      "text/plain": [
       "nltk.text.Text"
      ]
     },
     "execution_count": 27,
     "metadata": {},
     "output_type": "execute_result"
    }
   ],
   "source": [
    "type(text2)"
   ]
  },
  {
   "cell_type": "markdown",
   "metadata": {},
   "source": [
    "Slicing works for us to view **tokens** in the NLTK Text object, which is the data type of `text2`.  Let's try out some of the methods and functions specific to NLTK, though, as they are designed for working with Text objects!\n",
    "\n",
    "Let's begin with the `concordance()` method.  We pass a single **token**, as a **string** (type=str), into this method.  What token would you like to see in its different contexts within the text?"
   ]
  },
  {
   "cell_type": "code",
   "execution_count": 28,
   "metadata": {},
   "outputs": [
    {
     "name": "stdout",
     "output_type": "stream",
     "text": [
      "Displaying 25 of 63 matches:\n",
      "anner as to engage the general good opinion of their surrounding acquaintance .\n",
      ". A great deal too handsome , in my opinion , for any place THEY can ever affor\n",
      "s was not recommended to their good opinion by any peculiar graces of person or\n",
      "ionate brother . I have the highest opinion in the world of Edward ' s heart . \n",
      " he is always unwilling to give his opinion on any picture ; but he has an inna\n",
      " rapturous delight , which , in her opinion , could alone be called taste . Yet\n",
      "tly cordial , and if THAT were your opinion , I am sure you could never be civi\n",
      "s you have ; but I have the highest opinion in the world of his goodness and se\n",
      "tudied his sentiments and heard his opinion on subjects of literature and taste\n",
      " that Edward stood very high in her opinion . She believed the regard to be mut\n",
      "uld be !\" Elinor had given her real opinion to her sister . She could not consi\n",
      "nd every body was astonished at the opinion of the others . An opportunity was \n",
      " . It was enough to secure his good opinion ; for to be unaffected was all that\n",
      "sing , in spite of his being in the opinion of Marianne and Margaret an absolut\n",
      "ady ascertained Mr . Willoughby ' s opinion in almost every matter of importanc\n",
      ". In hastily forming and giving his opinion of other people , in sacrificing ge\n",
      "only attach her the more to her own opinion . But by an appeal to her affection\n",
      "ed , so talked Mrs . Jennings . Her opinion varying with every fresh conjecture\n",
      "hat the circumstance did not in her opinion justify such lasting amazement or v\n",
      "quire no such proof . Nothing in my opinion has ever passed to justify doubt ; \n",
      " so direct , so simple , and in her opinion so eligible of knowing the real sta\n",
      "r his coming to Barton was , in her opinion , of all things the most natural . \n",
      "ore than once in their life -- your opinion on that point is unchanged , I pres\n",
      "anne , \" to be guided wholly by the opinion of other people . I thought our jud\n",
      "ildren that Lady Middleton ' s good opinion was engaged in their favour before \n"
     ]
    }
   ],
   "source": [
    "text2.concordance('opinion')  # optional parameter: lines=20 (or any number you choose)"
   ]
  },
  {
   "cell_type": "markdown",
   "metadata": {},
   "source": [
    "By default the `concordance()` method shows 25 contexts in which the input word is used, but you can specify how many contexts you would like to see by saying something like: `text2.concordance('opinion', lines=63`)"
   ]
  },
  {
   "cell_type": "code",
   "execution_count": 29,
   "metadata": {},
   "outputs": [
    {
     "name": "stdout",
     "output_type": "stream",
     "text": [
      "Displaying 63 of 63 matches:\n",
      "anner as to engage the general good opinion of their surrounding acquaintance .\n",
      ". A great deal too handsome , in my opinion , for any place THEY can ever affor\n",
      "s was not recommended to their good opinion by any peculiar graces of person or\n",
      "ionate brother . I have the highest opinion in the world of Edward ' s heart . \n",
      " he is always unwilling to give his opinion on any picture ; but he has an inna\n",
      " rapturous delight , which , in her opinion , could alone be called taste . Yet\n",
      "tly cordial , and if THAT were your opinion , I am sure you could never be civi\n",
      "s you have ; but I have the highest opinion in the world of his goodness and se\n",
      "tudied his sentiments and heard his opinion on subjects of literature and taste\n",
      " that Edward stood very high in her opinion . She believed the regard to be mut\n",
      "uld be !\" Elinor had given her real opinion to her sister . She could not consi\n",
      "nd every body was astonished at the opinion of the others . An opportunity was \n",
      " . It was enough to secure his good opinion ; for to be unaffected was all that\n",
      "sing , in spite of his being in the opinion of Marianne and Margaret an absolut\n",
      "ady ascertained Mr . Willoughby ' s opinion in almost every matter of importanc\n",
      ". In hastily forming and giving his opinion of other people , in sacrificing ge\n",
      "only attach her the more to her own opinion . But by an appeal to her affection\n",
      "ed , so talked Mrs . Jennings . Her opinion varying with every fresh conjecture\n",
      "hat the circumstance did not in her opinion justify such lasting amazement or v\n",
      "quire no such proof . Nothing in my opinion has ever passed to justify doubt ; \n",
      " so direct , so simple , and in her opinion so eligible of knowing the real sta\n",
      "r his coming to Barton was , in her opinion , of all things the most natural . \n",
      "ore than once in their life -- your opinion on that point is unchanged , I pres\n",
      "anne , \" to be guided wholly by the opinion of other people . I thought our jud\n",
      "ildren that Lady Middleton ' s good opinion was engaged in their favour before \n",
      "uired : to be together was , in his opinion , to be intimate , and while his co\n",
      "linor , cautious of giving her real opinion of Edward ' s mother , and not very\n",
      "e thought so by a person whose good opinion is so well worth having as yours . \n",
      "uld be of any use to YOU to know my opinion of her . But really I never underst\n",
      ", because I know he has the highest opinion in the world of all your family , a\n",
      "ll not . You know very well that my opinion would have no weight with you , unl\n",
      "ctually frighten me from giving any opinion on the subject had I formed one . I\n",
      "respect by your own feelings , your opinion would not be worth having .\" Elinor\n",
      "s still one objection which , in my opinion , cannot be so easily removed .\" Ma\n",
      ", her sister could never obtain her opinion of any article of purchase , howeve\n",
      ", which may have lowered me in your opinion . Tell me what it is , explain the \n",
      " leagued together to ruin me in his opinion , than believe his nature capable o\n",
      "ich her sister was often led in her opinion of others , by the irritable refine\n",
      "ised to be guided by her mother ' s opinion , and she submitted to it therefore\n",
      "ermined ( though rather against the opinion of Sir John ) that as Mrs . Willoug\n",
      "ring them farther . Whereas , in my opinion , by her taking so much notice of y\n",
      "ded Mrs . John Dashwood to the good opinion of Lady Middleton did not suit the \n",
      "with perfect indifference as to her opinion of herself , her desire of being in\n",
      "ght to be equally positive in their opinion , and to repeat it over and over ag\n",
      " Elinor , having once delivered her opinion on William ' s side , by which she \n",
      " all , by declaring that she had no opinion to give , as she had never thought \n",
      "ce , or any solicitude for her good opinion . Or at least , if she did not brin\n",
      "ntained the common , but unfatherly opinion among his sex , of all infants bein\n",
      "rror .\" Elinor would not oppose his opinion , because , whatever might be her g\n",
      "would ruin him for ever in her good opinion ,- and to make Marianne , by a rese\n",
      " t there .\" Elinor was quite of her opinion , as to the probability of their no\n",
      "as confirming her most unfavourable opinion of his head and heart . They had sc\n",
      "ith her , and his deference for her opinion , might very well justify Mrs . Jen\n",
      "ter five o ' clock -- arrived . His opinion , however , made some little amends\n",
      "d it signify to my character in the opinion of Marianne and her friends , in wh\n",
      ".-- ' I am ruined for ever in their opinion --' said I to myself --' I am shut \n",
      " degree -- am I less guilty in your opinion than I was before ?-- My intentions\n",
      "me be a little lightened too in her opinion as well as in yours . You tell me t\n",
      " her judgment , and sobered her own opinion of Willoughby ' s deserts ;-- she w\n",
      "hed to hear her sister ' s unbiased opinion , by an eager sign , engaged her si\n",
      " told her in Harley Street , of his opinion of what his own mediation in his br\n",
      "any comment . \" I will not ask your opinion of it as a composition ,\" said Edwa\n",
      " the gentlemen advanced in the good opinion of each other , as they advanced in\n"
     ]
    }
   ],
   "source": [
    "text2.concordance('opinion', lines=100)  # it's okay to input a greater number of lines than there are matches"
   ]
  },
  {
   "cell_type": "markdown",
   "metadata": {},
   "source": [
    "When we talk about the *context* of words (or tokens!) in text analysis, we're referring to the surrounding words of a given word.  Concordances show a bit of context to the left of an input word (just before the word appears) and to the right of that word (just after that word appeared). \n",
    "\n",
    "The words \"good\" and \"opinion\" seem to occur together quite a bit!  To see the other words appear near that pair, we can use the `common_contexts()` method.  We pass a **list** of tokens (each token as a string) into the method."
   ]
  },
  {
   "cell_type": "code",
   "execution_count": 30,
   "metadata": {},
   "outputs": [
    {
     "name": "stdout",
     "output_type": "stream",
     "text": [
      "the_of\n"
     ]
    }
   ],
   "source": [
    "text2.common_contexts([\"good\", \"opinion\"])"
   ]
  },
  {
   "cell_type": "markdown",
   "metadata": {},
   "source": [
    "It seems that \"the good opinion of\" is the complete phrase in which the pair of words, \"good\" and \"opinion\", appear together in this text.  They don't occur together in other contexts!  But what about individually?\n",
    "\n",
    "We can use the **similar** method to see words that appear in similar contexts, meaning they're surrounded by similar tokens, as the token we input.  Note that we pass in a single token as a string to this method."
   ]
  },
  {
   "cell_type": "code",
   "execution_count": 31,
   "metadata": {},
   "outputs": [
    {
     "name": "stdout",
     "output_type": "stream",
     "text": [
      "Words with a similar context as 'good':\n",
      "large short long young great much comfortable kind quiet pretty\n",
      "charming in respectable as to house one that time thing\n"
     ]
    }
   ],
   "source": [
    "print(\"Words with a similar context as 'good':\")\n",
    "text2.similar(\"good\")"
   ]
  },
  {
   "cell_type": "code",
   "execution_count": 32,
   "metadata": {},
   "outputs": [
    {
     "name": "stdout",
     "output_type": "stream",
     "text": [
      "Words with a similar context as 'opinion':\n",
      "mind wishes sister side mother affection husband behaviour time\n",
      "brother knowledge wish eyes journey and family life house attention\n",
      "heart\n"
     ]
    }
   ],
   "source": [
    "print(\"Words with a similar context as 'opinion':\")\n",
    "text2.similar(\"opinion\")"
   ]
  },
  {
   "cell_type": "markdown",
   "metadata": {},
   "source": [
    "Pairs of words that occur together, such as \"good\" and \"opinion,\" are referred to as **bigrams**, where \"bi\" indicates two.  **N-grams** are groups of words that occur together, where n is a number of your choice.\n",
    "\n",
    "To get all the bigrams in a text, we can use the `bigrams()` method, into which we pass the variable referring to the text itself."
   ]
  },
  {
   "cell_type": "code",
   "execution_count": 33,
   "metadata": {},
   "outputs": [
    {
     "name": "stdout",
     "output_type": "stream",
     "text": [
      "[('[', 'Sense'), ('Sense', 'and'), ('and', 'Sensibility'), ('Sensibility', 'by'), ('by', 'Jane'), ('Jane', 'Austen'), ('Austen', '1811'), ('1811', ']'), (']', 'CHAPTER'), ('CHAPTER', '1'), ('1', 'The'), ('The', 'family'), ('family', 'of'), ('of', 'Dashwood'), ('Dashwood', 'had'), ('had', 'long'), ('long', 'been'), ('been', 'settled'), ('settled', 'in'), ('in', 'Sussex'), ('Sussex', '.'), ('.', 'Their'), ('Their', 'estate'), ('estate', 'was'), ('was', 'large'), ('large', ','), (',', 'and'), ('and', 'their'), ('their', 'residence'), ('residence', 'was'), ('was', 'at'), ('at', 'Norland'), ('Norland', 'Park'), ('Park', ','), (',', 'in'), ('in', 'the'), ('the', 'centre'), ('centre', 'of'), ('of', 'their'), ('their', 'property'), ('property', ','), (',', 'where'), ('where', ','), (',', 'for'), ('for', 'many'), ('many', 'generations'), ('generations', ','), (',', 'they'), ('they', 'had'), ('had', 'lived'), ('lived', 'in'), ('in', 'so'), ('so', 'respectable'), ('respectable', 'a'), ('a', 'manner'), ('manner', 'as'), ('as', 'to'), ('to', 'engage'), ('engage', 'the'), ('the', 'general'), ('general', 'good'), ('good', 'opinion'), ('opinion', 'of'), ('of', 'their'), ('their', 'surrounding'), ('surrounding', 'acquaintance'), ('acquaintance', '.'), ('.', 'The'), ('The', 'late'), ('late', 'owner'), ('owner', 'of'), ('of', 'this'), ('this', 'estate'), ('estate', 'was'), ('was', 'a'), ('a', 'single'), ('single', 'man'), ('man', ','), (',', 'who'), ('who', 'lived'), ('lived', 'to'), ('to', 'a'), ('a', 'very'), ('very', 'advanced'), ('advanced', 'age'), ('age', ','), (',', 'and'), ('and', 'who'), ('who', 'for'), ('for', 'many'), ('many', 'years'), ('years', 'of'), ('of', 'his'), ('his', 'life'), ('life', ','), (',', 'had'), ('had', 'a'), ('a', 'constant'), ('constant', 'companion'), ('companion', 'and')]\n"
     ]
    }
   ],
   "source": [
    "bigrams_list = list(nltk.bigrams(text2))\n",
    "print(bigrams_list[:100])  # prints the first 100 bigrams"
   ]
  },
  {
   "cell_type": "markdown",
   "metadata": {},
   "source": [
    "Last class we looked quickly at a **dispersion plot**, which is a chart that visualizes when particular tokens appear within a text.  Let's try making another one of those.  We pass in a list of individual tokens, where each token is a string, to make a dispersion plot."
   ]
  },
  {
   "cell_type": "code",
   "execution_count": 34,
   "metadata": {},
   "outputs": [
    {
     "data": {
      "image/png": "[encoded data removed]",
      "text/plain": [
       "<Figure size 640x480 with 1 Axes>"
      ]
     },
     "metadata": {},
     "output_type": "display_data"
    }
   ],
   "source": [
    "# Character names (note that they can't be multiple words, or there won't be a match)\n",
    "text2.dispersion_plot([\"Marianne\", \"Elinor\", \"Edward\"])"
   ]
  },
  {
   "cell_type": "markdown",
   "metadata": {},
   "source": [
    "How does this plot reflect the text?\n",
    "\n",
    "Marianne and Elinor are the main characters of the book 'Sense and Sensibility,' so it makes sense that we'd see them consistently throughout the text!  Edward is a supporting character, so we see that his name occurs less frequently."
   ]
  },
  {
   "cell_type": "markdown",
   "metadata": {},
   "source": [
    "Let's try another text.  NLTK includes some books that were digitized for [Project Gutenberg](https://www.gutenberg.org).\n"
   ]
  },
  {
   "cell_type": "code",
   "execution_count": 35,
   "metadata": {},
   "outputs": [
    {
     "name": "stdout",
     "output_type": "stream",
     "text": [
      "['austen-emma.txt', 'austen-persuasion.txt', 'austen-sense.txt', 'bible-kjv.txt', 'blake-poems.txt', 'bryant-stories.txt', 'burgess-busterbrown.txt', 'carroll-alice.txt', 'chesterton-ball.txt', 'chesterton-brown.txt', 'chesterton-thursday.txt', 'edgeworth-parents.txt', 'melville-moby_dick.txt', 'milton-paradise.txt', 'shakespeare-caesar.txt', 'shakespeare-hamlet.txt', 'shakespeare-macbeth.txt', 'whitman-leaves.txt']\n"
     ]
    }
   ],
   "source": [
    "from nltk.corpus import gutenberg\n",
    "print(nltk.corpus.gutenberg.fileids())"
   ]
  },
  {
   "cell_type": "markdown",
   "metadata": {},
   "source": [
    "Let's look at one of those books, Alice's Adventures in Wonderland (with the fileid `carroll-alice.txt`), to practice tokenizing on our own."
   ]
  },
  {
   "cell_type": "code",
   "execution_count": 36,
   "metadata": {},
   "outputs": [
    {
     "name": "stdout",
     "output_type": "stream",
     "text": [
      "<class 'str'>\n"
     ]
    }
   ],
   "source": [
    "aiw = nltk.corpus.gutenberg.raw(\"carroll-alice.txt\")\n",
    "print(type(aiw))"
   ]
  },
  {
   "cell_type": "code",
   "execution_count": 37,
   "metadata": {},
   "outputs": [
    {
     "data": {
      "text/plain": [
       "\"[Alice's Adventures in Wonderland by Lewis Carroll 1865]\\n\\nCHAPTER I. Down the Rabbit-Hole\\n\\nAlice was\""
      ]
     },
     "execution_count": 37,
     "metadata": {},
     "output_type": "execute_result"
    }
   ],
   "source": [
    "aiw[:100]"
   ]
  },
  {
   "cell_type": "markdown",
   "metadata": {},
   "source": [
    "We can tokenize the string of Alice's Adventures in Wonderland to split it into individual words and punctuation using the function `word_tokenize()`.  We can split the string into individual sentences using the function `sent_tokenize()`.  Both tokenization functions output a list of strings."
   ]
  },
  {
   "cell_type": "code",
   "execution_count": 38,
   "metadata": {},
   "outputs": [
    {
     "name": "stdout",
     "output_type": "stream",
     "text": [
      "Total tokens: 33494\n",
      "Sample: ['[', 'Alice', \"'s\", 'Adventures', 'in', 'Wonderland', 'by', 'Lewis', 'Carroll', '1865', ']', 'CHAPTER', 'I', '.', 'Down', 'the', 'Rabbit-Hole', 'Alice', 'was', 'beginning', 'to', 'get', 'very', 'tired', 'of', 'sitting', 'by', 'her', 'sister', 'on', 'the', 'bank', ',', 'and', 'of', 'having', 'nothing', 'to', 'do', ':', 'once', 'or', 'twice', 'she', 'had', 'peeped', 'into', 'the', 'book', 'her', 'sister', 'was', 'reading', ',', 'but', 'it', 'had', 'no', 'pictures', 'or', 'conversations', 'in', 'it', ',', \"'and\", 'what', 'is', 'the', 'use', 'of', 'a', 'book', ',', \"'\", 'thought', 'Alice', \"'without\", 'pictures', 'or', 'conversation', '?', \"'\", 'So', 'she', 'was', 'considering', 'in', 'her', 'own', 'mind', '(', 'as', 'well', 'as', 'she', 'could', ',', 'for', 'the', 'hot']\n"
     ]
    }
   ],
   "source": [
    "aiw_tokens = word_tokenize(aiw)\n",
    "print(\"Total tokens:\", len(aiw_tokens))\n",
    "print(\"Sample:\", aiw_tokens[0:100])"
   ]
  },
  {
   "cell_type": "code",
   "execution_count": 39,
   "metadata": {},
   "outputs": [
    {
     "name": "stdout",
     "output_type": "stream",
     "text": [
      "Total sentences: 1625\n",
      "Sample: [\"[Alice's Adventures in Wonderland by Lewis Carroll 1865]\\n\\nCHAPTER I.\", \"Down the Rabbit-Hole\\n\\nAlice was beginning to get very tired of sitting by her sister on the\\nbank, and of having nothing to do: once or twice she had peeped into the\\nbook her sister was reading, but it had no pictures or conversations in\\nit, 'and what is the use of a book,' thought Alice 'without pictures or\\nconversation?'\", 'So she was considering in her own mind (as well as she could, for the\\nhot day made her feel very sleepy and stupid), whether the pleasure\\nof making a daisy-chain would be worth the trouble of getting up and\\npicking the daisies, when suddenly a White Rabbit with pink eyes ran\\nclose by her.', \"There was nothing so VERY remarkable in that; nor did Alice think it so\\nVERY much out of the way to hear the Rabbit say to itself, 'Oh dear!\", 'Oh dear!']\n"
     ]
    }
   ],
   "source": [
    "aiw_sents = sent_tokenize(aiw)\n",
    "print(\"Total sentences:\", len(aiw_sents))\n",
    "print(\"Sample:\", aiw_sents[0:5])"
   ]
  },
  {
   "cell_type": "markdown",
   "metadata": {},
   "source": [
    "What if I want to know the number of words, not tokens (so excluding punctuation marks)?"
   ]
  },
  {
   "cell_type": "code",
   "execution_count": 40,
   "metadata": {},
   "outputs": [
    {
     "name": "stdout",
     "output_type": "stream",
     "text": [
      "Total words: 25465\n"
     ]
    }
   ],
   "source": [
    "aiw_words = [word for word in aiw_tokens if word.isalpha()]  # List comprehension\n",
    "print(\"Total words:\", len(aiw_words))\n",
    "### Same as: ###\n",
    "# aiw_words = []\n",
    "# for word in aiw_tokens:\n",
    "#     if word.isalpha():\n",
    "#         aiw_words += [word]  # same as aiw_words = aiw_words + [word]"
   ]
  },
  {
   "cell_type": "markdown",
   "metadata": {},
   "source": [
    "What if we want to know the size of the vocabulary, or the number of unique words, in Alice's Adventures in Wonderland?\n",
    "\n",
    "Remember that Python (and NLTK) consider capitalized and lowercased words to be different, so in order to count the number of unique words, we must **casefold** the text, changing all words to lowercase.  NLTK has a simple method for this: `.lower()`.  \n",
    "\n",
    "*Note:* Casefolding is a form of **normalization**."
   ]
  },
  {
   "cell_type": "code",
   "execution_count": 41,
   "metadata": {},
   "outputs": [
    {
     "name": "stdout",
     "output_type": "stream",
     "text": [
      "['alice', 'adventures', 'in', 'wonderland', 'by', 'lewis', 'carroll', 'chapter', 'i', 'down']\n"
     ]
    }
   ],
   "source": [
    "aiw_lower = [word.lower() for word in aiw_words]\n",
    "print(aiw_lower[:10])"
   ]
  },
  {
   "cell_type": "markdown",
   "metadata": {},
   "source": [
    "Next, we can use another Python data type called a **set** to quickly get all the unique words from our list of casefolded words:"
   ]
  },
  {
   "cell_type": "code",
   "execution_count": 42,
   "metadata": {},
   "outputs": [
    {
     "name": "stdout",
     "output_type": "stream",
     "text": [
      "Vocabulary size: 2470 words\n"
     ]
    }
   ],
   "source": [
    "aiw_vocab = set(aiw_lower)\n",
    "print(\"Vocabulary size:\",len(aiw_vocab),\"words\")"
   ]
  },
  {
   "cell_type": "markdown",
   "metadata": {},
   "source": [
    "Other forms of **normalization** involve reducing words to their root form.  For example, the words \"happy\" and \"happiness\" have the same root and very similar meanings.  There are two ways NLTK provides to reduce words to their root form:\n",
    "\n",
    "* **Stemming**: reduces words to a root form where the root is *not* a valid word itself\n",
    "\n",
    "    In our example, the stem of \"happy\" and \"happiness\" would be \"happ.\"\n",
    "\n",
    "\n",
    "* **Lemmatizing**: reduces words to a root form where the root *is* a valid word itself, determined based on whether it exists in WordNet's list of valid English words\n",
    "\n",
    "    In our example, the stem of \"happy\" and \"happiness\" would be \"happy.\"\n",
    "    \n",
    "There are different approaches to stemming and lemmatization we can use in NLTK.  Let's see how they differ..."
   ]
  },
  {
   "cell_type": "code",
   "execution_count": 43,
   "metadata": {},
   "outputs": [
    {
     "name": "stdout",
     "output_type": "stream",
     "text": [
      "['true', 'down', 'down', 'down', 'would', 'the', 'fall', 'never', 'come', 'to', 'an', 'end', 'i', 'wonder', 'how', 'mani', 'mile', 'i', 'fallen', 'by', 'thi', 'time', 'she', 'said', 'aloud', 'i', 'must', 'be', 'get', 'somewher', 'near', 'the', 'centr', 'of', 'the', 'earth', 'let', 'me', 'see', 'that', 'would', 'be', 'four', 'thousand', 'mile', 'down', 'i', 'think', 'for', 'you']\n"
     ]
    }
   ],
   "source": [
    "porter = nltk.PorterStemmer()\n",
    "porter_stemmed = [porter.stem(word) for word in aiw_lower]  # only includes alphabetic tokens\n",
    "print(porter_stemmed[500:550])"
   ]
  },
  {
   "cell_type": "code",
   "execution_count": 44,
   "metadata": {},
   "outputs": [
    {
     "name": "stdout",
     "output_type": "stream",
     "text": [
      "['tru', 'down', 'down', 'down', 'would', 'the', 'fal', 'nev', 'com', 'to', 'an', 'end', 'i', 'wond', 'how', 'many', 'mil', 'i', 'fal', 'by', 'thi', 'tim', 'she', 'said', 'aloud', 'i', 'must', 'be', 'get', 'somewh', 'near', 'the', 'cent', 'of', 'the', 'ear', 'let', 'me', 'see', 'that', 'would', 'be', 'four', 'thousand', 'mil', 'down', 'i', 'think', 'for', 'you']\n"
     ]
    }
   ],
   "source": [
    "lancaster = nltk.LancasterStemmer()\n",
    "lancaster_stemmed = [lancaster.stem(word) for word in aiw_lower] # only includes alphabetic tokens\n",
    "print(lancaster_stemmed[500:550])"
   ]
  },
  {
   "cell_type": "code",
   "execution_count": 45,
   "metadata": {},
   "outputs": [
    {
     "name": "stdout",
     "output_type": "stream",
     "text": [
      "['true', 'down', 'down', 'down', 'would', 'the', 'fall', 'never', 'come', 'to', 'an', 'end', 'i', 'wonder', 'how', 'many', 'mile', 'i', 'fallen', 'by', 'this', 'time', 'she', 'said', 'aloud', 'i', 'must', 'be', 'getting', 'somewhere', 'near', 'the', 'centre', 'of', 'the', 'earth', 'let', 'me', 'see', 'that', 'would', 'be', 'four', 'thousand', 'mile', 'down', 'i', 'think', 'for', 'you']\n"
     ]
    }
   ],
   "source": [
    "wnl = nltk.WordNetLemmatizer()\n",
    "lemmatized = [wnl.lemmatize(word) for word in aiw_lower]  # only includes alphabetic tokens\n",
    "print(lemmatized[500:550])"
   ]
  },
  {
   "cell_type": "markdown",
   "metadata": {},
   "source": [
    "What differences do you spot in the output samples of stems and lemmas?\n",
    "\n",
    "*This is why it's always useful to print out samples of the data you're working with as you're coding!*"
   ]
  },
  {
   "cell_type": "markdown",
   "metadata": {},
   "source": [
    "So what can we do with words once we've stemmed or lemmatized them?  Well, we could count the unique stems and lemmas, to get a different perspective on the size of the Lewis Carroll's vocabulary in Alice's Adventures in Wonderland, just as we did with the complete words.  \n",
    "\n",
    "We could also count the frequency at which these root forms of words appear, giving us a sense of what the most common words are in the book.  Let's try that!  We'll use NLTK's `FreqDist()` function (for calculating and visualizing frequency distributions)."
   ]
  },
  {
   "cell_type": "code",
   "execution_count": 46,
   "metadata": {},
   "outputs": [
    {
     "data": {
      "text/plain": [
       "FreqDist({'the': 1616, 'a': 887, 'and': 810, 'to': 720, 'it': 596, 'she': 544, 'i': 533, 'of': 499, 'said': 462, 'alice': 396, ...})"
      ]
     },
     "execution_count": 46,
     "metadata": {},
     "output_type": "execute_result"
    }
   ],
   "source": [
    "fdist_lemmas = FreqDist(lemmatized)\n",
    "fdist_lemmas  # pairs of lemmas and their counts"
   ]
  },
  {
   "cell_type": "markdown",
   "metadata": {},
   "source": [
    "Now we can ask how often a particular lemma appears using the `fdist_lemmas` variable we created:"
   ]
  },
  {
   "cell_type": "code",
   "execution_count": 47,
   "metadata": {},
   "outputs": [
    {
     "name": "stdout",
     "output_type": "stream",
     "text": [
      "18\n"
     ]
    }
   ],
   "source": [
    "print(fdist_lemmas['wonder'])"
   ]
  },
  {
   "cell_type": "markdown",
   "metadata": {},
   "source": [
    "To get an easier overview, we can use visualization.  Let's create a line chart of the top 10 lemmas:"
   ]
  },
  {
   "cell_type": "code",
   "execution_count": 48,
   "metadata": {},
   "outputs": [
    {
     "data": {
      "image/png": "[encoded data removed]",
      "text/plain": [
       "<Figure size 2000x800 with 1 Axes>"
      ]
     },
     "metadata": {},
     "output_type": "display_data"
    }
   ],
   "source": [
    "plt.figure(figsize = (20, 8))\n",
    "plt.rc('font', size=12)\n",
    "number_of_tokens = 10 \n",
    "fdist_lemmas.plot(number_of_tokens, title='Frequency Distribution for '+str(number_of_tokens)+\" Most Common Lemmas in Alice's Adventures in Wonderland\")\n",
    "plt.show()"
   ]
  },
  {
   "cell_type": "markdown",
   "metadata": {},
   "source": [
    "Hmmm.  Some of these words don't tell us a lot.  It's pretty logical that words like \"the\" and \"she\" would be used a lot, but it doesn't tell us much about what goes on in the book.\n",
    "\n",
    "These small words that occur frequently but don't always carry large meaning, particularly in books and longer texts, are called **stopwords**.  We can filter them out with a `stopwords()` method and try re-plotting this frequency distribution."
   ]
  },
  {
   "cell_type": "code",
   "execution_count": 49,
   "metadata": {},
   "outputs": [],
   "source": [
    "to_exclude = stopwords.words('english')  # english since the book is in English\n",
    "\n",
    "# What other words might we want to exclude?\n",
    "to_exclude += ['alice', \"said\"]"
   ]
  },
  {
   "cell_type": "code",
   "execution_count": 50,
   "metadata": {},
   "outputs": [],
   "source": [
    "# use list comprehension to filter\n",
    "lemmatized_filtered = [l for l in lemmatized if (len(l) > 2 and not l in to_exclude)]"
   ]
  },
  {
   "cell_type": "code",
   "execution_count": 51,
   "metadata": {},
   "outputs": [
    {
     "name": "stdout",
     "output_type": "stream",
     "text": [
      "Total words after filtering: 10771\n",
      "50 most common words after filtering: [('little', 128), ('one', 100), ('would', 90), ('know', 90), ('could', 86), ('like', 86), ('went', 83), ('thing', 79), ('thought', 76), ('queen', 76), ('time', 74), ('see', 67), ('king', 63), ('head', 60), ('turtle', 60), ('began', 58), ('hatter', 57), ('mock', 56), ('say', 55), ('quite', 55), ('way', 54), ('gryphon', 54), ('think', 53), ('much', 51), ('voice', 51), ('first', 50), ('cat', 49), ('rabbit', 48), ('mouse', 46), ('looked', 45), ('never', 45), ('got', 45), ('get', 44), ('must', 44), ('duchess', 42), ('tone', 42), ('round', 41), ('came', 40), ('dormouse', 40), ('great', 39), ('make', 38), ('back', 38), ('well', 37), ('two', 37), ('eye', 35), ('march', 34), ('large', 33), ('come', 33), ('last', 33), ('long', 32)]\n"
     ]
    }
   ],
   "source": [
    "fdist_lemmas_filtered = FreqDist(lemmatized_filtered)\n",
    "print(\"Total words after filtering:\", fdist_lemmas_filtered.N())\n",
    "print(\"50 most common words after filtering:\", fdist_lemmas_filtered.most_common(50))"
   ]
  },
  {
   "cell_type": "code",
   "execution_count": 52,
   "metadata": {},
   "outputs": [
    {
     "data": {
      "image/png": "[encoded data removed]",
      "text/plain": [
       "<Figure size 2000x800 with 1 Axes>"
      ]
     },
     "metadata": {},
     "output_type": "display_data"
    }
   ],
   "source": [
    "plt.figure(figsize = (20, 8))\n",
    "plt.rc('font', size=12)\n",
    "number_of_tokens = 10 \n",
    "fdist_lemmas_filtered.plot(number_of_tokens, title='Frequency Distribution for '+str(number_of_tokens)+\" Most Common Lemmas in Alice's Adventures in Wonderland Excluding Stop Words\")\n",
    "plt.show()"
   ]
  },
  {
   "cell_type": "markdown",
   "metadata": {},
   "source": [
    "That's more interesting!  We could do the same thing with complete words, to get a different perspective on the most common words in the book."
   ]
  },
  {
   "cell_type": "markdown",
   "metadata": {},
   "source": [
    "Another common step to preprocessing text data is **part-of-speech (POS) tagging**.  POS tagging assigns parts of speech to words and groups of words in sentences.  After tagging parts of speech, you can perform more complex tasks such as **entity recognition**, which is the process of identifying people, places, and organizations named in a text."
   ]
  },
  {
   "cell_type": "code",
   "execution_count": 53,
   "metadata": {},
   "outputs": [
    {
     "name": "stdout",
     "output_type": "stream",
     "text": [
      "[('[', 'JJ'), ('Alice', 'NNP'), (\"'s\", 'POS'), ('Adventures', 'NNS'), ('in', 'IN'), ('Wonderland', 'NNP'), ('by', 'IN'), ('Lewis', 'NNP'), ('Carroll', 'NNP'), ('1865', 'CD')]\n"
     ]
    }
   ],
   "source": [
    "aiw_tagged = nltk.pos_tag(aiw_tokens)\n",
    "print(aiw_tagged[0:10])"
   ]
  },
  {
   "cell_type": "markdown",
   "metadata": {},
   "source": [
    "The parts of speech the abbreviations stand for are available [here](https://www.ling.upenn.edu/courses/Fall_2003/ling001/penn_treebank_pos.html)"
   ]
  },
  {
   "cell_type": "code",
   "execution_count": 54,
   "metadata": {},
   "outputs": [
    {
     "data": {
      "text/plain": [
       "['/home/dave/nltk_data',\n",
       " '/home/dave/CodeToJoy/nltk-intro/env/nltk_data',\n",
       " '/home/dave/CodeToJoy/nltk-intro/env/share/nltk_data',\n",
       " '/home/dave/CodeToJoy/nltk-intro/env/lib/nltk_data',\n",
       " '/usr/share/nltk_data',\n",
       " '/usr/local/share/nltk_data',\n",
       " '/usr/lib/nltk_data',\n",
       " '/usr/local/lib/nltk_data',\n",
       " '/home/dave/CodeToJoy/nltk-intro/nltk_data']"
      ]
     },
     "execution_count": 54,
     "metadata": {},
     "output_type": "execute_result"
    }
   ],
   "source": [
    "nltk.data.path.append('/home/dave/CodeToJoy/nltk-intro/nltk_data')\n",
    "nltk.data.path"
   ]
  },
  {
   "cell_type": "code",
   "execution_count": null,
   "metadata": {},
   "outputs": [],
   "source": []
  }
 ],
 "metadata": {
  "kernelspec": {
   "display_name": "Python 3 (ipykernel)",
   "language": "python",
   "name": "python3"
  },
  "language_info": {
   "codemirror_mode": {
    "name": "ipython",
    "version": 3
   },
   "file_extension": ".py",
   "mimetype": "text/x-python",
   "name": "python",
   "nbconvert_exporter": "python",
   "pygments_lexer": "ipython3",
   "version": "3.11.5"
  }
 },
 "nbformat": 4,
 "nbformat_minor": 4
}
